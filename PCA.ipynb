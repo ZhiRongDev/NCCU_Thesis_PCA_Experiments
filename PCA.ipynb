{
 "cells": [
  {
   "cell_type": "code",
   "execution_count": 201,
   "metadata": {},
   "outputs": [
    {
     "name": "stdout",
     "output_type": "stream",
     "text": [
      "WARN [2023-11-08T22:27:12,118]  [Globals.java:138] [main]  Development mode is enabled\n",
      "Reading file: /home/jordan990301/PCA_Experiments/data/Rao2014/samples/GSM1551550_HIC001.hic\n",
      "WARN [2023-11-08T22:27:12,878]  [Globals.java:138] [main]  Development mode is enabled\n"
     ]
    }
   ],
   "source": [
    "%%bash\n",
    "rm -rf /home/jordan990301/PCA_Experiments/data/outputs/juicer\n",
    "mkdir /home/jordan990301/PCA_Experiments/data/outputs/juicer\n",
    "\n",
    "HIC_PATH=\"/home/jordan990301/PCA_Experiments/data/Rao2014/samples/GSM1551550_HIC001.hic\"\n",
    "OUTPUT_PATH=\"/home/jordan990301/PCA_Experiments/data/outputs/juicer\"\n",
    "JUICER_TOOLS_PATH=\"/home/jordan990301/PCA_Experiments/juicer/juicer_tools.jar\"\n",
    "\n",
    "java -jar $JUICER_TOOLS_PATH pearsons KR $HIC_PATH 6 BP 1000000 $OUTPUT_PATH/pearson_matrix.txt -p\n",
    "java -jar $JUICER_TOOLS_PATH eigenvector KR $HIC_PATH 6 BP 1000000 $OUTPUT_PATH/eigenvector.txt -p"
   ]
  },
  {
   "cell_type": "code",
   "execution_count": 202,
   "metadata": {},
   "outputs": [],
   "source": [
    "import sys\n",
    "import numpy as np\n",
    "import pandas as pd\n",
    "\n",
    "output_path = \"/home/jordan990301/PCA_Experiments/data/outputs/juicer\""
   ]
  },
  {
   "cell_type": "code",
   "execution_count": 203,
   "metadata": {},
   "outputs": [
    {
     "name": "stdout",
     "output_type": "stream",
     "text": [
      "172\n",
      "172\n"
     ]
    }
   ],
   "source": [
    "### Calculate from juicer_tools\n",
    "pearson_df = pd.read_table(f\"{output_path}/pearson_matrix.txt\", header=None, sep=\" \")\n",
    "pearson_df.pop(pearson_df.columns[-1])\n",
    "print(len(pearson_df[0]))\n",
    "print(len(pearson_df.loc[0]))"
   ]
  },
  {
   "cell_type": "code",
   "execution_count": 204,
   "metadata": {},
   "outputs": [],
   "source": [
    "pearson_df = pearson_df.dropna(axis=0, how=\"all\").reset_index(drop=True)\n",
    "pearson_df = pearson_df.dropna(axis=1, how=\"all\").reset_index(drop=True)"
   ]
  },
  {
   "cell_type": "code",
   "execution_count": 205,
   "metadata": {},
   "outputs": [
    {
     "name": "stdout",
     "output_type": "stream",
     "text": [
      "False\n",
      "170\n",
      "170\n"
     ]
    }
   ],
   "source": [
    "print(pearson_df.isnull().values.any())\n",
    "print(len(pearson_df[0]))\n",
    "print(len(pearson_df.loc[0]))"
   ]
  },
  {
   "cell_type": "code",
   "execution_count": 206,
   "metadata": {},
   "outputs": [
    {
     "data": {
      "text/html": [
       "<style>#sk-container-id-17 {color: black;}#sk-container-id-17 pre{padding: 0;}#sk-container-id-17 div.sk-toggleable {background-color: white;}#sk-container-id-17 label.sk-toggleable__label {cursor: pointer;display: block;width: 100%;margin-bottom: 0;padding: 0.3em;box-sizing: border-box;text-align: center;}#sk-container-id-17 label.sk-toggleable__label-arrow:before {content: \"▸\";float: left;margin-right: 0.25em;color: #696969;}#sk-container-id-17 label.sk-toggleable__label-arrow:hover:before {color: black;}#sk-container-id-17 div.sk-estimator:hover label.sk-toggleable__label-arrow:before {color: black;}#sk-container-id-17 div.sk-toggleable__content {max-height: 0;max-width: 0;overflow: hidden;text-align: left;background-color: #f0f8ff;}#sk-container-id-17 div.sk-toggleable__content pre {margin: 0.2em;color: black;border-radius: 0.25em;background-color: #f0f8ff;}#sk-container-id-17 input.sk-toggleable__control:checked~div.sk-toggleable__content {max-height: 200px;max-width: 100%;overflow: auto;}#sk-container-id-17 input.sk-toggleable__control:checked~label.sk-toggleable__label-arrow:before {content: \"▾\";}#sk-container-id-17 div.sk-estimator input.sk-toggleable__control:checked~label.sk-toggleable__label {background-color: #d4ebff;}#sk-container-id-17 div.sk-label input.sk-toggleable__control:checked~label.sk-toggleable__label {background-color: #d4ebff;}#sk-container-id-17 input.sk-hidden--visually {border: 0;clip: rect(1px 1px 1px 1px);clip: rect(1px, 1px, 1px, 1px);height: 1px;margin: -1px;overflow: hidden;padding: 0;position: absolute;width: 1px;}#sk-container-id-17 div.sk-estimator {font-family: monospace;background-color: #f0f8ff;border: 1px dotted black;border-radius: 0.25em;box-sizing: border-box;margin-bottom: 0.5em;}#sk-container-id-17 div.sk-estimator:hover {background-color: #d4ebff;}#sk-container-id-17 div.sk-parallel-item::after {content: \"\";width: 100%;border-bottom: 1px solid gray;flex-grow: 1;}#sk-container-id-17 div.sk-label:hover label.sk-toggleable__label {background-color: #d4ebff;}#sk-container-id-17 div.sk-serial::before {content: \"\";position: absolute;border-left: 1px solid gray;box-sizing: border-box;top: 0;bottom: 0;left: 50%;z-index: 0;}#sk-container-id-17 div.sk-serial {display: flex;flex-direction: column;align-items: center;background-color: white;padding-right: 0.2em;padding-left: 0.2em;position: relative;}#sk-container-id-17 div.sk-item {position: relative;z-index: 1;}#sk-container-id-17 div.sk-parallel {display: flex;align-items: stretch;justify-content: center;background-color: white;position: relative;}#sk-container-id-17 div.sk-item::before, #sk-container-id-17 div.sk-parallel-item::before {content: \"\";position: absolute;border-left: 1px solid gray;box-sizing: border-box;top: 0;bottom: 0;left: 50%;z-index: -1;}#sk-container-id-17 div.sk-parallel-item {display: flex;flex-direction: column;z-index: 1;position: relative;background-color: white;}#sk-container-id-17 div.sk-parallel-item:first-child::after {align-self: flex-end;width: 50%;}#sk-container-id-17 div.sk-parallel-item:last-child::after {align-self: flex-start;width: 50%;}#sk-container-id-17 div.sk-parallel-item:only-child::after {width: 0;}#sk-container-id-17 div.sk-dashed-wrapped {border: 1px dashed gray;margin: 0 0.4em 0.5em 0.4em;box-sizing: border-box;padding-bottom: 0.4em;background-color: white;}#sk-container-id-17 div.sk-label label {font-family: monospace;font-weight: bold;display: inline-block;line-height: 1.2em;}#sk-container-id-17 div.sk-label-container {text-align: center;}#sk-container-id-17 div.sk-container {/* jupyter's `normalize.less` sets `[hidden] { display: none; }` but bootstrap.min.css set `[hidden] { display: none !important; }` so we also need the `!important` here to be able to override the default hidden behavior on the sphinx rendered scikit-learn.org. See: https://github.com/scikit-learn/scikit-learn/issues/21755 */display: inline-block !important;position: relative;}#sk-container-id-17 div.sk-text-repr-fallback {display: none;}</style><div id=\"sk-container-id-17\" class=\"sk-top-container\"><div class=\"sk-text-repr-fallback\"><pre>PCA(n_components=170)</pre><b>In a Jupyter environment, please rerun this cell to show the HTML representation or trust the notebook. <br />On GitHub, the HTML representation is unable to render, please try loading this page with nbviewer.org.</b></div><div class=\"sk-container\" hidden><div class=\"sk-item\"><div class=\"sk-estimator sk-toggleable\"><input class=\"sk-toggleable__control sk-hidden--visually\" id=\"sk-estimator-id-17\" type=\"checkbox\" checked><label for=\"sk-estimator-id-17\" class=\"sk-toggleable__label sk-toggleable__label-arrow\">PCA</label><div class=\"sk-toggleable__content\"><pre>PCA(n_components=170)</pre></div></div></div></div></div>"
      ],
      "text/plain": [
       "PCA(n_components=170)"
      ]
     },
     "execution_count": 206,
     "metadata": {},
     "output_type": "execute_result"
    }
   ],
   "source": [
    "from sklearn.decomposition import PCA\n",
    "pca = PCA(n_components=len(pearson_df[0]))\n",
    "pca.fit(pearson_df)"
   ]
  },
  {
   "cell_type": "code",
   "execution_count": 207,
   "metadata": {},
   "outputs": [
    {
     "name": "stdout",
     "output_type": "stream",
     "text": [
      "0.9120964808266161\n",
      "0.04210297149608417\n",
      "0.026140316241396643\n"
     ]
    }
   ],
   "source": [
    "# print(pca.explained_variance_) # eigenvalues\n",
    "print(pca.explained_variance_ratio_[0]) # Percentage of variance explained by each of the selected components.\n",
    "print(pca.explained_variance_ratio_[1]) # Percentage of variance explained by each of the selected components.\n",
    "print(pca.explained_variance_ratio_[2]) # Percentage of variance explained by each of the selected components."
   ]
  },
  {
   "cell_type": "code",
   "execution_count": 208,
   "metadata": {},
   "outputs": [
    {
     "name": "stdout",
     "output_type": "stream",
     "text": [
      "170\n",
      "<class 'numpy.ndarray'>\n"
     ]
    }
   ],
   "source": [
    "My_PC1 = pca.components_[0]\n",
    "print(len(My_PC1))\n",
    "print(type(My_PC1)) ### Make sure it is Numpy format\n",
    "\n",
    "np.savetxt(f'{output_path}/My_PC1.txt', My_PC1, delimiter='\\n', fmt='%1.4f')"
   ]
  },
  {
   "cell_type": "code",
   "execution_count": 209,
   "metadata": {},
   "outputs": [
    {
     "name": "stdout",
     "output_type": "stream",
     "text": [
      "170\n",
      "<class 'numpy.ndarray'>\n"
     ]
    }
   ],
   "source": [
    "Juicer_PC1 = pd.read_table(f\"{output_path}/eigenvector.txt\", header=None, sep=\" \")\n",
    "Juicer_PC1 = Juicer_PC1.dropna(axis=0, how=\"all\").reset_index(drop=True)\n",
    "Juicer_PC1 = Juicer_PC1[0]\n",
    "Juicer_PC1 = Juicer_PC1.to_numpy()\n",
    "print(len(Juicer_PC1))\n",
    "print(type(Juicer_PC1)) ### Make sure it is Numpy format\n",
    "\n",
    "np.savetxt(f'{output_path}/Juicer_PC1.txt', Juicer_PC1, delimiter='\\n', fmt='%1.4f')"
   ]
  },
  {
   "cell_type": "code",
   "execution_count": 210,
   "metadata": {},
   "outputs": [
    {
     "data": {
      "text/plain": [
       "-0.9839977437568964"
      ]
     },
     "execution_count": 210,
     "metadata": {},
     "output_type": "execute_result"
    }
   ],
   "source": [
    "from numpy import dot\n",
    "from numpy.linalg import norm\n",
    "\n",
    "cos_sim = dot(My_PC1, Juicer_PC1) / (norm(My_PC1) * norm(Juicer_PC1))\n",
    "cos_sim"
   ]
  },
  {
   "cell_type": "code",
   "execution_count": 211,
   "metadata": {},
   "outputs": [
    {
     "name": "stdout",
     "output_type": "stream",
     "text": [
      "167\n"
     ]
    }
   ],
   "source": [
    "My_PC1_Pos = My_PC1 > 0\n",
    "Juicer_PC1_Pos = Juicer_PC1 > 0\n",
    "\n",
    "PC1_Difference_Count = 0\n",
    "for i in range(My_PC1_Pos.shape[0]):\n",
    "    # print(i, My_PC1_Pos[i])\n",
    "    if(My_PC1_Pos[i] != Juicer_PC1_Pos[i]):\n",
    "        PC1_Difference_Count += 1\n",
    "\n",
    "print(PC1_Difference_Count)"
   ]
  }
 ],
 "metadata": {
  "kernelspec": {
   "display_name": "py3.11",
   "language": "python",
   "name": "python3"
  },
  "language_info": {
   "codemirror_mode": {
    "name": "ipython",
    "version": 3
   },
   "file_extension": ".py",
   "mimetype": "text/x-python",
   "name": "python",
   "nbconvert_exporter": "python",
   "pygments_lexer": "ipython3",
   "version": "3.11.5"
  }
 },
 "nbformat": 4,
 "nbformat_minor": 2
}
