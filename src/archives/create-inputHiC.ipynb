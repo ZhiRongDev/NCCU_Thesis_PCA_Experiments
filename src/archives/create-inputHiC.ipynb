{
 "cells": [
  {
   "cell_type": "markdown",
   "metadata": {},
   "source": [
    "GM12878"
   ]
  },
  {
   "cell_type": "code",
   "execution_count": 8,
   "metadata": {},
   "outputs": [],
   "source": [
    "# %%bash\n",
    "# CELL_LINE=\"GM12878\"\n",
    "# NORM=\"KR\"\n",
    "# TYPE=\"BP\"\n",
    "# RESOLUTION=1000000\n",
    "# HIC_PATH=\"/media/jordan990301/Samsung_T5/HiC_Datasets/Rao_2014/GM12878/MAPQGE30/GSE63525_GM12878_insitu_primary_replicate_combined_30.hic\"\n",
    "# OUTPUT_PATH=\"/media/jordan990301/Samsung_T5/HiC_Datasets/juicer_outputs/$CELL_LINE/1Mb\"\n",
    "# JUICER_TOOLS_PATH=\"/home/jordan990301/PCA_Experiments/juicer/juicer_tools.jar\"\n",
    "\n",
    "# mkdir -p \"/media/jordan990301/Samsung_T5/HiC_Datasets/juicer_outputs/$CELL_LINE/1Mb\"\n",
    "\n",
    "# for CHROM in 1 2 3 4 5 6 7 8 9 10 11 12 13 14 15 16 17 18 19 20 21 22 23 \"X\" \"Y\"\n",
    "# do\n",
    "# java -jar $JUICER_TOOLS_PATH pearsons $NORM $HIC_PATH $CHROM $TYPE $RESOLUTION $OUTPUT_PATH/pearson_chr$CHROM.txt -p\n",
    "# java -jar $JUICER_TOOLS_PATH eigenvector $NORM $HIC_PATH $CHROM $TYPE $RESOLUTION $OUTPUT_PATH/pc1_chr$CHROM.txt -p\n",
    "# done"
   ]
  },
  {
   "cell_type": "code",
   "execution_count": 9,
   "metadata": {},
   "outputs": [],
   "source": [
    "# %%bash\n",
    "# CELL_LINE=\"GM12878\"\n",
    "# NORM=\"KR\"\n",
    "# TYPE=\"BP\"\n",
    "# RESOLUTION=100000\n",
    "# HIC_PATH=\"/media/jordan990301/Samsung_T5/HiC_Datasets/Rao_2014/GM12878/MAPQGE30/GSE63525_GM12878_insitu_primary_replicate_combined_30.hic\"\n",
    "# OUTPUT_PATH=\"/media/jordan990301/Samsung_T5/HiC_Datasets/juicer_outputs/$CELL_LINE/100Kb\"\n",
    "# JUICER_TOOLS_PATH=\"/home/jordan990301/PCA_Experiments/juicer/juicer_tools.jar\"\n",
    "\n",
    "# mkdir -p \"/media/jordan990301/Samsung_T5/HiC_Datasets/juicer_outputs/$CELL_LINE/100Kb\"\n",
    "\n",
    "# for CHROM in 1 2 3 4 5 6 7 8 9 10 11 12 13 14 15 16 17 18 19 20 21 22 23 \"X\" \"Y\"\n",
    "# do\n",
    "# java -jar $JUICER_TOOLS_PATH pearsons $NORM $HIC_PATH $CHROM $TYPE $RESOLUTION $OUTPUT_PATH/pearson_chr$CHROM.txt -p\n",
    "# java -jar $JUICER_TOOLS_PATH eigenvector $NORM $HIC_PATH $CHROM $TYPE $RESOLUTION $OUTPUT_PATH/pc1_chr$CHROM.txt -p\n",
    "# done"
   ]
  },
  {
   "cell_type": "code",
   "execution_count": 10,
   "metadata": {},
   "outputs": [],
   "source": [
    "# %%bash\n",
    "# CELL_LINE=\"GM12878\"\n",
    "# NORM=\"KR\"\n",
    "# TYPE=\"BP\"\n",
    "# RESOLUTION=25000\n",
    "# HIC_PATH=\"/media/jordan990301/Samsung_T5/HiC_Datasets/Rao_2014/GM12878/MAPQGE30/GSE63525_GM12878_insitu_primary_replicate_combined_30.hic\"\n",
    "# OUTPUT_PATH=\"/media/jordan990301/Samsung_T5/HiC_Datasets/juicer_outputs/$CELL_LINE/25Kb\"\n",
    "# JUICER_TOOLS_PATH=\"/home/jordan990301/PCA_Experiments/juicer/juicer_tools.jar\"\n",
    "\n",
    "# mkdir -p \"/media/jordan990301/Samsung_T5/HiC_Datasets/juicer_outputs/$CELL_LINE/25Kb\"\n",
    "\n",
    "# for CHROM in 1 2 3 4 5 6 7 8 9 10 11 12 13 14 15 16 17 18 19 20 21 22 23 \"X\" \"Y\"\n",
    "# do\n",
    "# java -jar $JUICER_TOOLS_PATH pearsons $NORM $HIC_PATH $CHROM $TYPE $RESOLUTION $OUTPUT_PATH/pearson_chr$CHROM.txt -p\n",
    "# java -jar $JUICER_TOOLS_PATH eigenvector $NORM $HIC_PATH $CHROM $TYPE $RESOLUTION $OUTPUT_PATH/pc1_chr$CHROM.txt -p\n",
    "# done"
   ]
  },
  {
   "cell_type": "markdown",
   "metadata": {},
   "source": [
    "K562"
   ]
  },
  {
   "cell_type": "code",
   "execution_count": 11,
   "metadata": {},
   "outputs": [
    {
     "name": "stdout",
     "output_type": "stream",
     "text": [
      "WARN [2024-01-09T07:43:06,396]  [Globals.java:138] [main]  Development mode is enabled\n",
      "Reading file: /media/jordan990301/Samsung_T5/HiC_Datasets/Rao_2014/K562/MAPQGE30/GSE63525_K562_combined_30.hic\n",
      "WARN [2024-01-09T07:43:07,774]  [Globals.java:138] [main]  Development mode is enabled\n",
      "WARN [2024-01-09T07:43:08,994]  [Globals.java:138] [main]  Development mode is enabled\n",
      "Reading file: /media/jordan990301/Samsung_T5/HiC_Datasets/Rao_2014/K562/MAPQGE30/GSE63525_K562_combined_30.hic\n",
      "WARN [2024-01-09T07:43:09,924]  [Globals.java:138] [main]  Development mode is enabled\n",
      "WARN [2024-01-09T07:43:11,155]  [Globals.java:138] [main]  Development mode is enabled\n",
      "Reading file: /media/jordan990301/Samsung_T5/HiC_Datasets/Rao_2014/K562/MAPQGE30/GSE63525_K562_combined_30.hic\n",
      "WARN [2024-01-09T07:43:12,020]  [Globals.java:138] [main]  Development mode is enabled\n",
      "WARN [2024-01-09T07:43:13,211]  [Globals.java:138] [main]  Development mode is enabled\n",
      "Reading file: /media/jordan990301/Samsung_T5/HiC_Datasets/Rao_2014/K562/MAPQGE30/GSE63525_K562_combined_30.hic\n",
      "WARN [2024-01-09T07:43:14,135]  [Globals.java:138] [main]  Development mode is enabled\n",
      "WARN [2024-01-09T07:43:15,298]  [Globals.java:138] [main]  Development mode is enabled\n",
      "Reading file: /media/jordan990301/Samsung_T5/HiC_Datasets/Rao_2014/K562/MAPQGE30/GSE63525_K562_combined_30.hic\n",
      "WARN [2024-01-09T07:43:16,013]  [Globals.java:138] [main]  Development mode is enabled\n",
      "WARN [2024-01-09T07:43:16,933]  [Globals.java:138] [main]  Development mode is enabled\n",
      "Reading file: /media/jordan990301/Samsung_T5/HiC_Datasets/Rao_2014/K562/MAPQGE30/GSE63525_K562_combined_30.hic\n",
      "WARN [2024-01-09T07:43:17,685]  [Globals.java:138] [main]  Development mode is enabled\n",
      "WARN [2024-01-09T07:43:18,608]  [Globals.java:138] [main]  Development mode is enabled\n",
      "Reading file: /media/jordan990301/Samsung_T5/HiC_Datasets/Rao_2014/K562/MAPQGE30/GSE63525_K562_combined_30.hic\n",
      "WARN [2024-01-09T07:43:19,295]  [Globals.java:138] [main]  Development mode is enabled\n",
      "WARN [2024-01-09T07:43:20,228]  [Globals.java:138] [main]  Development mode is enabled\n",
      "Reading file: /media/jordan990301/Samsung_T5/HiC_Datasets/Rao_2014/K562/MAPQGE30/GSE63525_K562_combined_30.hic\n",
      "WARN [2024-01-09T07:43:20,886]  [Globals.java:138] [main]  Development mode is enabled\n",
      "WARN [2024-01-09T07:43:21,803]  [Globals.java:138] [main]  Development mode is enabled\n",
      "Reading file: /media/jordan990301/Samsung_T5/HiC_Datasets/Rao_2014/K562/MAPQGE30/GSE63525_K562_combined_30.hic\n",
      "WARN [2024-01-09T07:43:22,454]  [Globals.java:138] [main]  Development mode is enabled\n",
      "WARN [2024-01-09T07:43:23,308]  [Globals.java:138] [main]  Development mode is enabled\n",
      "Reading file: /media/jordan990301/Samsung_T5/HiC_Datasets/Rao_2014/K562/MAPQGE30/GSE63525_K562_combined_30.hic\n",
      "WARN [2024-01-09T07:43:23,971]  [Globals.java:138] [main]  Development mode is enabled\n",
      "WARN [2024-01-09T07:43:24,857]  [Globals.java:138] [main]  Development mode is enabled\n",
      "Reading file: /media/jordan990301/Samsung_T5/HiC_Datasets/Rao_2014/K562/MAPQGE30/GSE63525_K562_combined_30.hic\n",
      "WARN [2024-01-09T07:43:25,513]  [Globals.java:138] [main]  Development mode is enabled\n",
      "WARN [2024-01-09T07:43:26,407]  [Globals.java:138] [main]  Development mode is enabled\n",
      "Reading file: /media/jordan990301/Samsung_T5/HiC_Datasets/Rao_2014/K562/MAPQGE30/GSE63525_K562_combined_30.hic\n",
      "WARN [2024-01-09T07:43:27,067]  [Globals.java:138] [main]  Development mode is enabled\n",
      "WARN [2024-01-09T07:43:27,945]  [Globals.java:138] [main]  Development mode is enabled\n",
      "Reading file: /media/jordan990301/Samsung_T5/HiC_Datasets/Rao_2014/K562/MAPQGE30/GSE63525_K562_combined_30.hic\n",
      "WARN [2024-01-09T07:43:28,581]  [Globals.java:138] [main]  Development mode is enabled\n",
      "WARN [2024-01-09T07:43:29,528]  [Globals.java:138] [main]  Development mode is enabled\n",
      "Reading file: /media/jordan990301/Samsung_T5/HiC_Datasets/Rao_2014/K562/MAPQGE30/GSE63525_K562_combined_30.hic\n",
      "WARN [2024-01-09T07:43:30,209]  [Globals.java:138] [main]  Development mode is enabled\n",
      "WARN [2024-01-09T07:43:31,023]  [Globals.java:138] [main]  Development mode is enabled\n",
      "Reading file: /media/jordan990301/Samsung_T5/HiC_Datasets/Rao_2014/K562/MAPQGE30/GSE63525_K562_combined_30.hic\n",
      "WARN [2024-01-09T07:43:31,673]  [Globals.java:138] [main]  Development mode is enabled\n",
      "WARN [2024-01-09T07:43:32,484]  [Globals.java:138] [main]  Development mode is enabled\n",
      "Reading file: /media/jordan990301/Samsung_T5/HiC_Datasets/Rao_2014/K562/MAPQGE30/GSE63525_K562_combined_30.hic\n",
      "WARN [2024-01-09T07:43:33,101]  [Globals.java:138] [main]  Development mode is enabled\n",
      "WARN [2024-01-09T07:43:33,913]  [Globals.java:138] [main]  Development mode is enabled\n",
      "Reading file: /media/jordan990301/Samsung_T5/HiC_Datasets/Rao_2014/K562/MAPQGE30/GSE63525_K562_combined_30.hic\n",
      "WARN [2024-01-09T07:43:34,510]  [Globals.java:138] [main]  Development mode is enabled\n",
      "WARN [2024-01-09T07:43:35,300]  [Globals.java:138] [main]  Development mode is enabled\n",
      "Reading file: /media/jordan990301/Samsung_T5/HiC_Datasets/Rao_2014/K562/MAPQGE30/GSE63525_K562_combined_30.hic\n",
      "WARN [2024-01-09T07:43:35,898]  [Globals.java:138] [main]  Development mode is enabled\n",
      "WARN [2024-01-09T07:43:36,701]  [Globals.java:138] [main]  Development mode is enabled\n",
      "Reading file: /media/jordan990301/Samsung_T5/HiC_Datasets/Rao_2014/K562/MAPQGE30/GSE63525_K562_combined_30.hic\n",
      "WARN [2024-01-09T07:43:37,296]  [Globals.java:138] [main]  Development mode is enabled\n",
      "WARN [2024-01-09T07:43:38,193]  [Globals.java:138] [main]  Development mode is enabled\n",
      "Reading file: /media/jordan990301/Samsung_T5/HiC_Datasets/Rao_2014/K562/MAPQGE30/GSE63525_K562_combined_30.hic\n",
      "WARN [2024-01-09T07:43:38,958]  [Globals.java:138] [main]  Development mode is enabled\n",
      "WARN [2024-01-09T07:43:39,878]  [Globals.java:138] [main]  Development mode is enabled\n",
      "Reading file: /media/jordan990301/Samsung_T5/HiC_Datasets/Rao_2014/K562/MAPQGE30/GSE63525_K562_combined_30.hic\n",
      "WARN [2024-01-09T07:43:40,594]  [Globals.java:138] [main]  Development mode is enabled\n",
      "WARN [2024-01-09T07:43:41,569]  [Globals.java:138] [main]  Development mode is enabled\n",
      "Reading file: /media/jordan990301/Samsung_T5/HiC_Datasets/Rao_2014/K562/MAPQGE30/GSE63525_K562_combined_30.hic\n",
      "WARN [2024-01-09T07:43:42,293]  [Globals.java:138] [main]  Development mode is enabled\n",
      "WARN [2024-01-09T07:43:43,281]  [Globals.java:138] [main]  Development mode is enabled\n",
      "Reading file: /media/jordan990301/Samsung_T5/HiC_Datasets/Rao_2014/K562/MAPQGE30/GSE63525_K562_combined_30.hic\n"
     ]
    },
    {
     "name": "stderr",
     "output_type": "stream",
     "text": [
      "Unknown chromosome: 23\n"
     ]
    },
    {
     "name": "stdout",
     "output_type": "stream",
     "text": [
      "WARN [2024-01-09T07:43:43,980]  [Globals.java:138] [main]  Development mode is enabled\n"
     ]
    },
    {
     "name": "stderr",
     "output_type": "stream",
     "text": [
      "Unknown chromosome: 23\n"
     ]
    },
    {
     "name": "stdout",
     "output_type": "stream",
     "text": [
      "WARN [2024-01-09T07:43:44,730]  [Globals.java:138] [main]  Development mode is enabled\n",
      "Reading file: /media/jordan990301/Samsung_T5/HiC_Datasets/Rao_2014/K562/MAPQGE30/GSE63525_K562_combined_30.hic\n",
      "WARN [2024-01-09T07:43:45,568]  [Globals.java:138] [main]  Development mode is enabled\n",
      "WARN [2024-01-09T07:43:46,599]  [Globals.java:138] [main]  Development mode is enabled\n",
      "Reading file: /media/jordan990301/Samsung_T5/HiC_Datasets/Rao_2014/K562/MAPQGE30/GSE63525_K562_combined_30.hic\n",
      "WARN [2024-01-09T07:43:47,364]  [Globals.java:138] [main]  Development mode is enabled\n"
     ]
    }
   ],
   "source": [
    "# %%bash\n",
    "# CELL_LINE=\"K562\"\n",
    "# NORM=\"KR\"\n",
    "# TYPE=\"BP\"\n",
    "# RESOLUTION=1000000\n",
    "# HIC_PATH=\"/media/jordan990301/Samsung_T5/HiC_Datasets/Rao_2014/K562/MAPQGE30/GSE63525_K562_combined_30.hic\"\n",
    "# OUTPUT_PATH=\"/media/jordan990301/Samsung_T5/HiC_Datasets/juicer_outputs/$CELL_LINE/1Mb\"\n",
    "# JUICER_TOOLS_PATH=\"/home/jordan990301/PCA_Experiments/juicer/juicer_tools.jar\"\n",
    "\n",
    "# mkdir -p \"/media/jordan990301/Samsung_T5/HiC_Datasets/juicer_outputs/$CELL_LINE/1Mb\"\n",
    "\n",
    "# for CHROM in 1 2 3 4 5 6 7 8 9 10 11 12 13 14 15 16 17 18 19 20 21 22 23 \"X\" \"Y\"\n",
    "# do\n",
    "# java -jar $JUICER_TOOLS_PATH pearsons $NORM $HIC_PATH $CHROM $TYPE $RESOLUTION $OUTPUT_PATH/pearson_chr$CHROM.txt -p\n",
    "# java -jar $JUICER_TOOLS_PATH eigenvector $NORM $HIC_PATH $CHROM $TYPE $RESOLUTION $OUTPUT_PATH/pc1_chr$CHROM.txt -p\n",
    "# done"
   ]
  },
  {
   "cell_type": "code",
   "execution_count": 12,
   "metadata": {},
   "outputs": [
    {
     "name": "stdout",
     "output_type": "stream",
     "text": [
      "WARN [2024-01-09T07:43:48,295]  [Globals.java:138] [main]  Development mode is enabled\n",
      "Reading file: /media/jordan990301/Samsung_T5/HiC_Datasets/Rao_2014/K562/MAPQGE30/GSE63525_K562_combined_30.hic\n",
      "WARN [2024-01-09T07:45:07,388]  [Globals.java:138] [main]  Development mode is enabled\n",
      "WARN [2024-01-09T07:48:26,341]  [Globals.java:138] [main]  Development mode is enabled\n",
      "Reading file: /media/jordan990301/Samsung_T5/HiC_Datasets/Rao_2014/K562/MAPQGE30/GSE63525_K562_combined_30.hic\n",
      "WARN [2024-01-09T07:49:52,792]  [Globals.java:138] [main]  Development mode is enabled\n",
      "WARN [2024-01-09T07:53:41,109]  [Globals.java:138] [main]  Development mode is enabled\n",
      "Reading file: /media/jordan990301/Samsung_T5/HiC_Datasets/Rao_2014/K562/MAPQGE30/GSE63525_K562_combined_30.hic\n",
      "WARN [2024-01-09T07:54:34,453]  [Globals.java:138] [main]  Development mode is enabled\n"
     ]
    },
    {
     "name": "stderr",
     "output_type": "stream",
     "text": [
      "Exception in thread \"main\" java.lang.OutOfMemoryError: Java heap space\n",
      "\tat org.apache.commons.math.linear.Array2DRowRealMatrix.<init>(Array2DRowRealMatrix.java:79)\n",
      "\tat org.apache.commons.math.linear.Array2DRowRealMatrix.createMatrix(Array2DRowRealMatrix.java:163)\n",
      "\tat org.apache.commons.math.linear.AbstractRealMatrix.getSubMatrix(AbstractRealMatrix.java:287)\n",
      "\tat juicebox.data.MatrixZoomData.computeEigenvector(MatrixZoomData.java:611)\n",
      "\tat juicebox.data.Dataset.getEigenvector(Dataset.java:845)\n",
      "\tat juicebox.tools.clt.old.Eigenvector.run(Eigenvector.java:133)\n",
      "\tat juicebox.tools.HiCTools.main(HiCTools.java:94)\n"
     ]
    },
    {
     "name": "stdout",
     "output_type": "stream",
     "text": [
      "WARN [2024-01-09T07:54:48,158]  [Globals.java:138] [main]  Development mode is enabled\n",
      "Reading file: /media/jordan990301/Samsung_T5/HiC_Datasets/Rao_2014/GM12878/MAPQGE30/GSE63525_GM12878_insitu_primary_replicate_combined_30.hic\n",
      "WARN [2024-01-09T07:56:45,233]  [Globals.java:138] [main]  Development mode is enabled\n",
      "Reading file: /media/jordan990301/Samsung_T5/HiC_Datasets/Rao_2014/K562/MAPQGE30/GSE63525_K562_combined_30.hic\n",
      "WARN [2024-01-09T07:57:28,275]  [Globals.java:138] [main]  Development mode is enabled\n",
      "WARN [2024-01-09T07:59:31,119]  [Globals.java:138] [main]  Development mode is enabled\n",
      "Reading file: /media/jordan990301/Samsung_T5/HiC_Datasets/Rao_2014/K562/MAPQGE30/GSE63525_K562_combined_30.hic\n",
      "WARN [2024-01-09T08:00:08,319]  [Globals.java:138] [main]  Development mode is enabled\n",
      "WARN [2024-01-09T08:01:40,177]  [Globals.java:138] [main]  Development mode is enabled\n",
      "Reading file: /media/jordan990301/Samsung_T5/HiC_Datasets/Rao_2014/K562/MAPQGE30/GSE63525_K562_combined_30.hic\n",
      "WARN [2024-01-09T08:02:11,096]  [Globals.java:138] [main]  Development mode is enabled\n",
      "WARN [2024-01-09T08:03:28,692]  [Globals.java:138] [main]  Development mode is enabled\n",
      "Reading file: /media/jordan990301/Samsung_T5/HiC_Datasets/Rao_2014/K562/MAPQGE30/GSE63525_K562_combined_30.hic\n",
      "WARN [2024-01-09T08:03:53,892]  [Globals.java:138] [main]  Development mode is enabled\n",
      "WARN [2024-01-09T08:04:58,777]  [Globals.java:138] [main]  Development mode is enabled\n",
      "Reading file: /media/jordan990301/Samsung_T5/HiC_Datasets/Rao_2014/K562/MAPQGE30/GSE63525_K562_combined_30.hic\n",
      "WARN [2024-01-09T08:05:18,581]  [Globals.java:138] [main]  Development mode is enabled\n",
      "WARN [2024-01-09T08:06:15,818]  [Globals.java:138] [main]  Development mode is enabled\n",
      "Reading file: /media/jordan990301/Samsung_T5/HiC_Datasets/Rao_2014/K562/MAPQGE30/GSE63525_K562_combined_30.hic\n",
      "WARN [2024-01-09T08:06:30,076]  [Globals.java:138] [main]  Development mode is enabled\n",
      "WARN [2024-01-09T08:07:01,960]  [Globals.java:138] [main]  Development mode is enabled\n",
      "Reading file: /media/jordan990301/Samsung_T5/HiC_Datasets/Rao_2014/K562/MAPQGE30/GSE63525_K562_combined_30.hic\n",
      "WARN [2024-01-09T08:07:18,775]  [Globals.java:138] [main]  Development mode is enabled\n",
      "WARN [2024-01-09T08:07:58,703]  [Globals.java:138] [main]  Development mode is enabled\n",
      "Reading file: /media/jordan990301/Samsung_T5/HiC_Datasets/Rao_2014/K562/MAPQGE30/GSE63525_K562_combined_30.hic\n",
      "WARN [2024-01-09T08:08:14,546]  [Globals.java:138] [main]  Development mode is enabled\n",
      "WARN [2024-01-09T08:08:49,807]  [Globals.java:138] [main]  Development mode is enabled\n",
      "Reading file: /media/jordan990301/Samsung_T5/HiC_Datasets/Rao_2014/K562/MAPQGE30/GSE63525_K562_combined_30.hic\n",
      "WARN [2024-01-09T08:09:04,545]  [Globals.java:138] [main]  Development mode is enabled\n",
      "WARN [2024-01-09T08:09:38,128]  [Globals.java:138] [main]  Development mode is enabled\n",
      "Reading file: /media/jordan990301/Samsung_T5/HiC_Datasets/Rao_2014/K562/MAPQGE30/GSE63525_K562_combined_30.hic\n",
      "WARN [2024-01-09T08:09:45,361]  [Globals.java:138] [main]  Development mode is enabled\n",
      "WARN [2024-01-09T08:09:58,640]  [Globals.java:138] [main]  Development mode is enabled\n",
      "Reading file: /media/jordan990301/Samsung_T5/HiC_Datasets/Rao_2014/K562/MAPQGE30/GSE63525_K562_combined_30.hic\n",
      "WARN [2024-01-09T08:10:04,423]  [Globals.java:138] [main]  Development mode is enabled\n",
      "WARN [2024-01-09T08:10:13,992]  [Globals.java:138] [main]  Development mode is enabled\n",
      "Reading file: /media/jordan990301/Samsung_T5/HiC_Datasets/Rao_2014/K562/MAPQGE30/GSE63525_K562_combined_30.hic\n",
      "WARN [2024-01-09T08:10:18,883]  [Globals.java:138] [main]  Development mode is enabled\n",
      "WARN [2024-01-09T08:10:26,973]  [Globals.java:138] [main]  Development mode is enabled\n",
      "Reading file: /media/jordan990301/Samsung_T5/HiC_Datasets/Rao_2014/K562/MAPQGE30/GSE63525_K562_combined_30.hic\n",
      "WARN [2024-01-09T08:10:31,150]  [Globals.java:138] [main]  Development mode is enabled\n",
      "WARN [2024-01-09T08:10:38,142]  [Globals.java:138] [main]  Development mode is enabled\n",
      "Reading file: /media/jordan990301/Samsung_T5/HiC_Datasets/Rao_2014/K562/MAPQGE30/GSE63525_K562_combined_30.hic\n",
      "WARN [2024-01-09T08:10:41,889]  [Globals.java:138] [main]  Development mode is enabled\n",
      "WARN [2024-01-09T08:10:48,361]  [Globals.java:138] [main]  Development mode is enabled\n",
      "Reading file: /media/jordan990301/Samsung_T5/HiC_Datasets/Rao_2014/K562/MAPQGE30/GSE63525_K562_combined_30.hic\n",
      "WARN [2024-01-09T08:10:51,727]  [Globals.java:138] [main]  Development mode is enabled\n",
      "WARN [2024-01-09T08:10:57,461]  [Globals.java:138] [main]  Development mode is enabled\n",
      "Reading file: /media/jordan990301/Samsung_T5/HiC_Datasets/Rao_2014/K562/MAPQGE30/GSE63525_K562_combined_30.hic\n",
      "WARN [2024-01-09T08:10:59,343]  [Globals.java:138] [main]  Development mode is enabled\n",
      "WARN [2024-01-09T08:11:02,248]  [Globals.java:138] [main]  Development mode is enabled\n",
      "Reading file: /media/jordan990301/Samsung_T5/HiC_Datasets/Rao_2014/K562/MAPQGE30/GSE63525_K562_combined_30.hic\n",
      "WARN [2024-01-09T08:11:04,329]  [Globals.java:138] [main]  Development mode is enabled\n",
      "WARN [2024-01-09T08:11:07,770]  [Globals.java:138] [main]  Development mode is enabled\n",
      "Reading file: /media/jordan990301/Samsung_T5/HiC_Datasets/Rao_2014/K562/MAPQGE30/GSE63525_K562_combined_30.hic\n",
      "WARN [2024-01-09T08:11:08,794]  [Globals.java:138] [main]  Development mode is enabled\n",
      "WARN [2024-01-09T08:11:10,295]  [Globals.java:138] [main]  Development mode is enabled\n",
      "Reading file: /media/jordan990301/Samsung_T5/HiC_Datasets/Rao_2014/K562/MAPQGE30/GSE63525_K562_combined_30.hic\n",
      "WARN [2024-01-09T08:11:11,338]  [Globals.java:138] [main]  Development mode is enabled\n",
      "WARN [2024-01-09T08:11:12,844]  [Globals.java:138] [main]  Development mode is enabled\n",
      "Reading file: /media/jordan990301/Samsung_T5/HiC_Datasets/Rao_2014/K562/MAPQGE30/GSE63525_K562_combined_30.hic\n"
     ]
    },
    {
     "name": "stderr",
     "output_type": "stream",
     "text": [
      "Unknown chromosome: 23\n"
     ]
    },
    {
     "name": "stdout",
     "output_type": "stream",
     "text": [
      "WARN [2024-01-09T08:11:13,440]  [Globals.java:138] [main]  Development mode is enabled\n"
     ]
    },
    {
     "name": "stderr",
     "output_type": "stream",
     "text": [
      "Unknown chromosome: 23\n"
     ]
    },
    {
     "name": "stdout",
     "output_type": "stream",
     "text": [
      "WARN [2024-01-09T08:11:14,025]  [Globals.java:138] [main]  Development mode is enabled\n",
      "Reading file: /media/jordan990301/Samsung_T5/HiC_Datasets/Rao_2014/K562/MAPQGE30/GSE63525_K562_combined_30.hic\n",
      "WARN [2024-01-09T08:11:36,644]  [Globals.java:138] [main]  Development mode is enabled\n",
      "WARN [2024-01-09T08:12:32,388]  [Globals.java:138] [main]  Development mode is enabled\n",
      "Reading file: /media/jordan990301/Samsung_T5/HiC_Datasets/Rao_2014/K562/MAPQGE30/GSE63525_K562_combined_30.hic\n",
      "WARN [2024-01-09T08:12:33,009]  [Globals.java:138] [main]  Development mode is enabled\n"
     ]
    }
   ],
   "source": [
    "# %%bash\n",
    "# CELL_LINE=\"K562\"\n",
    "# NORM=\"KR\"\n",
    "# TYPE=\"BP\"\n",
    "# RESOLUTION=100000\n",
    "# HIC_PATH=\"/media/jordan990301/Samsung_T5/HiC_Datasets/Rao_2014/K562/MAPQGE30/GSE63525_K562_combined_30.hic\"\n",
    "# OUTPUT_PATH=\"/media/jordan990301/Samsung_T5/HiC_Datasets/juicer_outputs/$CELL_LINE/100Kb\"\n",
    "# JUICER_TOOLS_PATH=\"/home/jordan990301/PCA_Experiments/juicer/juicer_tools.jar\"\n",
    "\n",
    "# mkdir -p \"/media/jordan990301/Samsung_T5/HiC_Datasets/juicer_outputs/$CELL_LINE/100Kb\"\n",
    "\n",
    "# for CHROM in 1 2 3 4 5 6 7 8 9 10 11 12 13 14 15 16 17 18 19 20 21 22 23 \"X\" \"Y\"\n",
    "# do\n",
    "# java -jar $JUICER_TOOLS_PATH pearsons $NORM $HIC_PATH $CHROM $TYPE $RESOLUTION $OUTPUT_PATH/pearson_chr$CHROM.txt -p\n",
    "# java -jar $JUICER_TOOLS_PATH eigenvector $NORM $HIC_PATH $CHROM $TYPE $RESOLUTION $OUTPUT_PATH/pc1_chr$CHROM.txt -p\n",
    "# done"
   ]
  },
  {
   "cell_type": "code",
   "execution_count": 13,
   "metadata": {},
   "outputs": [],
   "source": [
    "# %%bash\n",
    "# CELL_LINE=\"K562\"\n",
    "# NORM=\"KR\"\n",
    "# TYPE=\"BP\"\n",
    "# RESOLUTION=25000\n",
    "# HIC_PATH=\"/media/jordan990301/Samsung_T5/HiC_Datasets/Rao_2014/K562/MAPQGE30/GSE63525_K562_combined_30.hic\"\n",
    "# OUTPUT_PATH=\"/media/jordan990301/Samsung_T5/HiC_Datasets/juicer_outputs/$CELL_LINE/25Kb\"\n",
    "# JUICER_TOOLS_PATH=\"/home/jordan990301/PCA_Experiments/juicer/juicer_tools.jar\"\n",
    "\n",
    "# mkdir -p \"/media/jordan990301/Samsung_T5/HiC_Datasets/juicer_outputs/$CELL_LINE/25Kb\"\n",
    "\n",
    "# for CHROM in 1 2 3 4 5 6 7 8 9 10 11 12 13 14 15 16 17 18 19 20 21 22 23 \"X\" \"Y\"\n",
    "# do\n",
    "# java -jar $JUICER_TOOLS_PATH pearsons $NORM $HIC_PATH $CHROM $TYPE $RESOLUTION $OUTPUT_PATH/pearson_chr$CHROM.txt -p\n",
    "# java -jar $JUICER_TOOLS_PATH eigenvector $NORM $HIC_PATH $CHROM $TYPE $RESOLUTION $OUTPUT_PATH/pc1_chr$CHROM.txt -p\n",
    "# done"
   ]
  }
 ],
 "metadata": {
  "kernelspec": {
   "display_name": "py3.11",
   "language": "python",
   "name": "python3"
  },
  "language_info": {
   "codemirror_mode": {
    "name": "ipython",
    "version": 3
   },
   "file_extension": ".py",
   "mimetype": "text/x-python",
   "name": "python",
   "nbconvert_exporter": "python",
   "pygments_lexer": "ipython3",
   "version": "3.11.5"
  }
 },
 "nbformat": 4,
 "nbformat_minor": 2
}
