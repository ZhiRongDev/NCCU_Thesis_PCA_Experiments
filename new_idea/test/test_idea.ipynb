{
 "cells": [
  {
   "cell_type": "code",
   "execution_count": 204,
   "metadata": {},
   "outputs": [],
   "source": [
    "import numpy as np\n",
    "import sympy\n",
    "from sympy import lambdify\n",
    "np.set_printoptions(suppress=True)"
   ]
  },
  {
   "cell_type": "markdown",
   "metadata": {},
   "source": [
    "* y\n",
    "* y = 2x + 1\n",
    "* y = -2x + 10\n",
    "* y = 3x + 1\n",
    "* y = -3x + 15"
   ]
  },
  {
   "cell_type": "code",
   "execution_count": 205,
   "metadata": {},
   "outputs": [],
   "source": [
    "x = np.array([[1, 2, 3, 4, 5], [3, 5, 7, 9, 11], [8, 6, 4, 2, 0], [4, 7, 10, 13, 16], [12, 9, 6, 3, 0]])\n",
    "# x = np.array([[3, 5, 7, 9, 11], [8, 6, 4, 2, 0], [1, 2, 3, 4, 5], [4, 7, 10, 13, 16], [12, 9, 6, 3, 0]])\n",
    "\n",
    "# x = np.array(\n",
    "#     [\n",
    "#         [ 8.27159,     4.68336895,  9.13376062, 14.95777334, 10.27004708],\n",
    "#         [ 4.68336895,  0.7610481,   2.53578632, 14.58413486,  8.93209007],\n",
    "#         [ 9.13376062,  2.53578632, 10.12321066, 13.32925066,  5.20644467],\n",
    "#         [14.95777334, 14.58413486, 13.32925066, 10.65992706, 14.62357189],\n",
    "#         [10.27004708,  8.93209007,  5.20644467, 14.62357189, 17.42619585]\n",
    "#     ]\n",
    "# )\n",
    "\n",
    "# x = np.array(\n",
    "#     [\n",
    "#         [ 0.827159,     0.468336895,  0.913376062, 0.1495777334, 0.1027004708],\n",
    "#         [ 0.468336895,  0.07610481,   0.253578632, 0.1458413486,  0.893209007],\n",
    "#         [ 0.913376062,  0.253578632, 0.1012321066, 0.1332925066,  0.520644467],\n",
    "#         [0.1495777334, 0.1458413486, 0.1332925066, 0.1065992706, 0.1462357189],\n",
    "#         [0.1027004708,  0.893209007,  0.520644467, 0.1462357189, 0.1742619585]\n",
    "#     ]\n",
    "# )"
   ]
  },
  {
   "cell_type": "code",
   "execution_count": 206,
   "metadata": {},
   "outputs": [],
   "source": [
    "# # x = o/e matrix \n",
    "# # Create a nxn array with random positive values\n",
    "# x = np.random.rand(5, 5) * 10\n",
    "\n",
    "# # Make the array symmetric\n",
    "# x = x + x.T\n",
    "\n",
    "# # Ensure all values are positive\n",
    "# x[x < 0] = np.random.rand() * 10\n",
    "\n",
    "# # Print the array\n",
    "# display(x)"
   ]
  },
  {
   "cell_type": "code",
   "execution_count": 207,
   "metadata": {},
   "outputs": [
    {
     "data": {
      "text/plain": [
       "array([[-2, -1,  0,  1,  2],\n",
       "       [-4, -2,  0,  2,  4],\n",
       "       [ 4,  2,  0, -2, -4],\n",
       "       [-6, -3,  0,  3,  6],\n",
       "       [ 6,  3,  0, -3, -6]])"
      ]
     },
     "execution_count": 207,
     "metadata": {},
     "output_type": "execute_result"
    }
   ],
   "source": [
    "### Zero mean\n",
    "for i in range(len(x)):\n",
    "    x[i] = x[i] - np.mean(x[i])\n",
    "x"
   ]
  },
  {
   "cell_type": "code",
   "execution_count": 208,
   "metadata": {},
   "outputs": [
    {
     "data": {
      "text/plain": [
       "array([[ 1.,  1., -1.,  1., -1.],\n",
       "       [ 1.,  1., -1.,  1., -1.],\n",
       "       [-1., -1.,  1., -1.,  1.],\n",
       "       [ 1.,  1., -1.,  1., -1.],\n",
       "       [-1., -1.,  1., -1.,  1.]])"
      ]
     },
     "metadata": {},
     "output_type": "display_data"
    }
   ],
   "source": [
    "corr_x = np.corrcoef(x)\n",
    "display(corr_x)"
   ]
  },
  {
   "cell_type": "code",
   "execution_count": 209,
   "metadata": {},
   "outputs": [],
   "source": [
    "x1 = x[0]\n",
    "pred_x = np.array([x1])\n",
    "mean_x1 = np.mean(x1)\n",
    "std_x1 = np.std(x1)\n",
    "\n",
    "for index, xj in enumerate(x):\n",
    "    xj = np.array([xj])\n",
    "    mean_xj = np.mean(xj)\n",
    "    std_xj = np.std(xj)\n",
    "    \n",
    "    r = corr_x[index][0]\n",
    "    # print(r)\n",
    "    \n",
    "    ### pred_xj = r * (std_xj / std_x1) * (x1 - mean_x1) + mean_xj\n",
    "    ### y = a * x + b\n",
    "    a = r * (std_xj / std_x1)\n",
    "    b = -(r * (std_xj / std_x1) * mean_x1) + mean_xj\n",
    "    pred_xj = a * x1 + b\n",
    "    # print(a)\n",
    "    # print(f'{b:.20f}\\n')\n",
    "\n",
    "    pred_xj = np.array([pred_xj])\n",
    "\n",
    "    if index != 0:\n",
    "        pred_x = np.concatenate((pred_x, pred_xj), axis=0)\n"
   ]
  },
  {
   "cell_type": "code",
   "execution_count": 210,
   "metadata": {},
   "outputs": [
    {
     "data": {
      "text/plain": [
       "array([[ 1.,  1., -1.,  1., -1.],\n",
       "       [ 1.,  1., -1.,  1., -1.],\n",
       "       [-1., -1.,  1., -1.,  1.],\n",
       "       [ 1.,  1., -1.,  1., -1.],\n",
       "       [-1., -1.,  1., -1.,  1.]])"
      ]
     },
     "metadata": {},
     "output_type": "display_data"
    }
   ],
   "source": [
    "display(corr_x)"
   ]
  },
  {
   "cell_type": "markdown",
   "metadata": {},
   "source": [
    "### PCA"
   ]
  },
  {
   "cell_type": "code",
   "execution_count": 211,
   "metadata": {},
   "outputs": [
    {
     "data": {
      "text/plain": [
       "array([54.,  0.,  0.,  0.,  0.])"
      ]
     },
     "metadata": {},
     "output_type": "display_data"
    },
    {
     "data": {
      "text/plain": [
       "array([1., 0., 0., 0., 0.])"
      ]
     },
     "metadata": {},
     "output_type": "display_data"
    },
    {
     "data": {
      "text/plain": [
       "1.0"
      ]
     },
     "metadata": {},
     "output_type": "display_data"
    },
    {
     "data": {
      "text/plain": [
       "array([ 0.19245009,  0.38490018, -0.38490018,  0.57735027, -0.57735027])"
      ]
     },
     "metadata": {},
     "output_type": "display_data"
    },
    {
     "data": {
      "text/plain": [
       "array([[-2, -1,  0,  1,  2],\n",
       "       [-4, -2,  0,  2,  4],\n",
       "       [ 4,  2,  0, -2, -4],\n",
       "       [-6, -3,  0,  3,  6],\n",
       "       [ 6,  3,  0, -3, -6]])"
      ]
     },
     "metadata": {},
     "output_type": "display_data"
    },
    {
     "data": {
      "text/plain": [
       "array([[  2.,   4.,  -4.,   6.,  -6.],\n",
       "       [  4.,   8.,  -8.,  12., -12.],\n",
       "       [ -4.,  -8.,   8., -12.,  12.],\n",
       "       [  6.,  12., -12.,  18., -18.],\n",
       "       [ -6., -12.,  12., -18.,  18.]])"
      ]
     },
     "metadata": {},
     "output_type": "display_data"
    },
    {
     "data": {
      "text/plain": [
       "array([[ 1.,  1., -1.,  1., -1.],\n",
       "       [ 1.,  1., -1.,  1., -1.],\n",
       "       [-1., -1.,  1., -1.,  1.],\n",
       "       [ 1.,  1., -1.,  1., -1.],\n",
       "       [-1., -1.,  1., -1.,  1.]])"
      ]
     },
     "metadata": {},
     "output_type": "display_data"
    }
   ],
   "source": [
    "arr = [x]\n",
    "EV1 = []\n",
    "\n",
    "for target_x in arr:\n",
    "    n = len(target_x[0])\n",
    "\n",
    "    x_t = np.transpose(target_x)\n",
    "    y = x_t / np.sqrt(n)\n",
    "\n",
    "    U, S, Vh = np.linalg.svd(y, full_matrices=True)\n",
    "    eigenvalues = S * S\n",
    "    sum_eigenvalues = np.sum(eigenvalues)\n",
    "    explained_variances = eigenvalues / sum_eigenvalues\n",
    "    display(eigenvalues)\n",
    "    display(explained_variances)\n",
    "    display(np.sum(explained_variances))\n",
    "\n",
    "    cov_x = np.matmul(np.transpose(y), y)\n",
    "    V_Cx = np.matmul(Vh, cov_x)\n",
    "    \n",
    "    # print(np.matmul(V_Cx, np.transpose(Vh)))\n",
    "    # print(f'{np.matmul(V_Cx[0], Vh[1]):.20f}\\n')\n",
    "    # print(f'{np.matmul(Vh[0], Vh[0]):.20f}\\n')\n",
    "\n",
    "    ## Confirm that XV = US\n",
    "    # display(np.matmul(y, np.transpose(Vh))) \n",
    "    # display(np.matmul(U, np.diag(S)))\n",
    "\n",
    "    ## Confirm that the mean of project vector y equals to zero.\n",
    "    # project_y = np.matmul(Vh[0], target_x)\n",
    "    # display(project_y)\n",
    "    # display(np.mean(project_y))\n",
    "    \n",
    "    ## EV1\n",
    "    EV1 = (Vh[0])\n",
    "\n",
    "    # display(np.round(cov_x, 6))\n",
    "    # print(np.dot(Vh[-1], cov_x[0]))\n",
    "    # print(np.dot(Vh[-1], cov_x[1]))\n",
    "    # print(np.dot(Vh[-1], cov_x[2]))\n",
    "    # print(np.dot(Vh[-1], cov_x[3]))\n",
    "    # print(np.dot(Vh[-1], cov_x[4]))\n",
    "\n",
    "    cov_x_GaussForm = []\n",
    "    add_col = []\n",
    "    for i in range(len(cov_x[0])):\n",
    "        add_col.append([np.dot(Vh[-1], cov_x[i])])\n",
    "\n",
    "    add_col = np.array(add_col)\n",
    "\n",
    "    cov_x_GaussForm = np.concatenate((cov_x, add_col), axis=1)\n",
    "    cov_x_rref = sympy.Matrix(cov_x_GaussForm).rref()\n",
    "    Base_Vec = []\n",
    "\n",
    "    # print(np.round(cov_x_GaussForm, 4))\n",
    "    # display(cov_x_rref[0])\n",
    "\n",
    "    for i in cov_x_rref[0]:\n",
    "        if i != 0 and i != 1:\n",
    "            Base_Vec.append(i)\n",
    "    \n",
    "    # print(Vh[-1] / Base_Vec)\n",
    "    # print('\\n')\n",
    "    \n",
    "    # print(Base_Vec)\n",
    "    # print(Vh[-1])\n",
    "    # print(EV1)\n",
    "    # print('\\n')\n",
    "    \n",
    "    # print(cov_x)\n",
    "    # print('\\n')\n",
    "\n",
    "    # print(np.dot(EV1, Base_Vec))\n",
    "    # print(np.dot(EV1, Vh[-1]))\n",
    "\n",
    "    # display(corr_x > 0)\n",
    "    # display(Vh > 0)\n",
    "    # display(V_Cx > 0)\n",
    "    # display((Vh > 0) == (V_Cx > 0))\n",
    "            \n",
    "    display(EV1)\n",
    "    display(target_x)\n",
    "    display(cov_x)\n",
    "    display(np.corrcoef(target_x))"
   ]
  },
  {
   "cell_type": "code",
   "execution_count": 212,
   "metadata": {},
   "outputs": [],
   "source": [
    "# import sympy\n",
    "## row echelon form\n",
    "# sympy.Matrix([[1, 0, 2, 4, -8],[0, 1, -3, -1, 6], [-3, -1, -3, 1, -6], [-1, 1, -5, -2, 8]]).rref()"
   ]
  },
  {
   "cell_type": "markdown",
   "metadata": {},
   "source": [
    "#### New idea: Predict EV1 matrix"
   ]
  },
  {
   "cell_type": "code",
   "execution_count": 213,
   "metadata": {},
   "outputs": [],
   "source": [
    "# EV1_Vote_Matrix = corr_x > 0\n",
    "# EV1_Pred_Result = []\n",
    "\n",
    "# EV1_Vote_Matrix = np.dstack((x, EV1_Vote_Matrix))\n",
    "\n",
    "# for row in EV1_Vote_Matrix:\n",
    "#     # display(row)\n",
    "#     pos_abs_sum = 0\n",
    "#     neg_abs_sum = 0\n",
    "\n",
    "#     for entry in row:\n",
    "#         if entry[1]:\n",
    "#             pos_abs_sum += abs(entry[0])\n",
    "#         else:\n",
    "#             neg_abs_sum += abs(entry[0])\n",
    "\n",
    "#     if pos_abs_sum >= neg_abs_sum:\n",
    "#         EV1_Pred_Result.append(True)\n",
    "#     else:\n",
    "#         EV1_Pred_Result.append(False)\n",
    "\n",
    "#     pos_abs_sum = 0\n",
    "#     neg_abs_sum = 0\n",
    "\n",
    "\n",
    "# # display(list(corr_x[0] > 0))\n",
    "# display(list(EV1 > 0))\n",
    "# display(EV1_Pred_Result)"
   ]
  },
  {
   "cell_type": "code",
   "execution_count": 214,
   "metadata": {},
   "outputs": [],
   "source": [
    "# display()"
   ]
  },
  {
   "cell_type": "markdown",
   "metadata": {},
   "source": [
    "y = a * x1 + Error.<br>\n",
    "a * x1 can be either positive or negative."
   ]
  },
  {
   "cell_type": "code",
   "execution_count": 215,
   "metadata": {},
   "outputs": [],
   "source": [
    "# error_x = x - pred_x\n",
    "# display(x)\n",
    "# display(pred_x)\n",
    "# display(error_x)\n",
    "# display(corr_x)"
   ]
  },
  {
   "cell_type": "code",
   "execution_count": 216,
   "metadata": {},
   "outputs": [],
   "source": [
    "# pred_EV1 = []\n",
    "# n = len(pred_x[0])\n",
    "# counter = 0\n",
    "\n",
    "# for i in range(n):\n",
    "#     for j in range(n):\n",
    "#         Leader = pred_x[i][j] if abs(pred_x[i][j]) > abs(error_x[i][j]) else error_x[i][j]\n",
    "#         if Leader > 0:\n",
    "#             counter += 1\n",
    "    \n",
    "#     print(counter)\n",
    "#     if counter > n/2:\n",
    "#         pred_EV1.append(True)\n",
    "#     else:\n",
    "#         pred_EV1.append(False)\n",
    "        \n",
    "#     counter = 0\n",
    "\n",
    "# display(pred_EV1)"
   ]
  }
 ],
 "metadata": {
  "kernelspec": {
   "display_name": "py3.11",
   "language": "python",
   "name": "python3"
  },
  "language_info": {
   "codemirror_mode": {
    "name": "ipython",
    "version": 3
   },
   "file_extension": ".py",
   "mimetype": "text/x-python",
   "name": "python",
   "nbconvert_exporter": "python",
   "pygments_lexer": "ipython3",
   "version": "3.11.5"
  }
 },
 "nbformat": 4,
 "nbformat_minor": 2
}
