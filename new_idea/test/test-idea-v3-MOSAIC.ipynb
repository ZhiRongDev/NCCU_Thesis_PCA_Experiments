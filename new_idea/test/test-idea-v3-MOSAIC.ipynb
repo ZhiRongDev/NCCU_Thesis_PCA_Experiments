{
 "cells": [
  {
   "cell_type": "markdown",
   "metadata": {},
   "source": [
    "MOSAIC perform PCA on O/E matrix <br>"
   ]
  },
  {
   "cell_type": "code",
   "execution_count": 1,
   "metadata": {},
   "outputs": [],
   "source": [
    "import numpy as np\n",
    "import sympy\n",
    "from sympy import lambdify\n",
    "np.set_printoptions(suppress=True)\n",
    "np.set_printoptions(precision=2)"
   ]
  },
  {
   "cell_type": "code",
   "execution_count": 2,
   "metadata": {},
   "outputs": [
    {
     "name": "stdout",
     "output_type": "stream",
     "text": [
      "0.5104936182219424 \n",
      "\n",
      "[[53.46 24.14 16.97  4.81 33.26  2.66]\n",
      " [24.14 36.14 23.56 31.42 28.87  7.32]\n",
      " [16.97 23.56  5.71 17.36  1.82  4.44]\n",
      " [ 4.81 31.42 17.36 18.27 10.85 26.69]\n",
      " [33.26 28.87  1.82 10.85  2.3  24.1 ]\n",
      " [ 2.66  7.32  4.44 26.69 24.1  14.54]] \n",
      "\n"
     ]
    }
   ],
   "source": [
    "def generate_oe_matrix(variance_threshold_L = 0.5, variance_threshold_U = 0.6):\n",
    "    \"\"\"Generates a random 5x5 symmetric matrix with positive values and\n",
    "       the first PC explaining at least L% and at most U% of the variance.\n",
    "    \"\"\"\n",
    "\n",
    "    while True:\n",
    "        # Create a nxn array with random positive values\n",
    "        matrix = np.abs(np.random.randn(6, 6) * 10)  # Use absolute values for positive entries\n",
    "        # Make the array symmetric\n",
    "        matrix = matrix + matrix.T\n",
    "        \n",
    "        origin_matrix = matrix\n",
    "\n",
    "        # Subtract the mean of each row to center the data\n",
    "        matrix = matrix - matrix.mean(axis=1, keepdims=True)\n",
    "\n",
    "        # SVD \n",
    "        n = len(matrix[0])\n",
    "        matrix_t = np.transpose(matrix)\n",
    "        y = matrix_t / np.sqrt(n)\n",
    "        U, S, Vh = np.linalg.svd(y, full_matrices=True)\n",
    "        eigenvalues = S * S\n",
    "        EV1_explained_variance = eigenvalues[0] / np.sum(eigenvalues) \n",
    "\n",
    "        # Check if the first PC explains at least the desired variance\n",
    "        if EV1_explained_variance >= variance_threshold_L and EV1_explained_variance < variance_threshold_U:\n",
    "            print(EV1_explained_variance, '\\n')\n",
    "            print(origin_matrix, '\\n')\n",
    "            return origin_matrix\n",
    "\n",
    "# Generate a matrix that meets the conditions\n",
    "oe = generate_oe_matrix()"
   ]
  },
  {
   "cell_type": "code",
   "execution_count": 3,
   "metadata": {},
   "outputs": [],
   "source": [
    "# Subtract the mean of each row to center the data\n",
    "oe_zero = oe - oe.mean(axis=1, keepdims=True)"
   ]
  },
  {
   "cell_type": "markdown",
   "metadata": {},
   "source": [
    "### PCA"
   ]
  },
  {
   "cell_type": "code",
   "execution_count": 5,
   "metadata": {},
   "outputs": [
    {
     "name": "stdout",
     "output_type": "stream",
     "text": [
      "explained_variances\n",
      "[0.51 0.25 0.15 0.07 0.02 0.  ]\n",
      "Vh[0]\n",
      "[-0.85 -0.13 -0.15  0.26 -0.32  0.27]\n",
      "corr_oe\n",
      "[[ 1.    0.29  0.18 -0.68  0.32 -0.45]\n",
      " [ 0.29  1.    0.6  -0.04 -0.12  0.12]\n",
      " [ 0.18  0.6   1.    0.24  0.62 -0.25]\n",
      " [-0.68 -0.04  0.24  1.    0.18  0.01]\n",
      " [ 0.32 -0.12  0.62  0.18  1.   -0.49]\n",
      " [-0.45  0.12 -0.25  0.01 -0.49  1.  ]]\n",
      "cov_x\n",
      "[[ 302.33   46.44   25.57 -106.16   69.45  -72.58]\n",
      " [  46.44   82.55   43.79   -3.04  -13.58   10.18]\n",
      " [  25.57   43.79   64.42   17.08   62.69  -18.98]\n",
      " [-106.16   -3.04   17.08   80.14   19.96    0.5 ]\n",
      " [  69.45  -13.58   62.69   19.96  156.67  -56.96]\n",
      " [ -72.58   10.18  -18.98    0.5   -56.96   87.49]]\n",
      "cov_x_sum\n",
      "[622.5162015342019, 199.57693184733165, 232.52698355099554, 226.8852712561125, 379.3026471575441, 246.6822137711036]\n"
     ]
    }
   ],
   "source": [
    "n = len(oe_zero[0])\n",
    "x_t = np.transpose(oe_zero)\n",
    "y = x_t / np.sqrt(n)\n",
    "\n",
    "U, S, Vh = np.linalg.svd(y, full_matrices=True)\n",
    "eigenvalues = S * S\n",
    "sum_eigenvalues = np.sum(eigenvalues)\n",
    "explained_variances = eigenvalues / sum_eigenvalues\n",
    "print('explained_variances')\n",
    "print(explained_variances)\n",
    "\n",
    "cov_x = np.matmul(np.transpose(y), y)\n",
    "V_Cx = np.matmul(Vh, cov_x)\n",
    "\n",
    "print('Vh[0]')\n",
    "print(Vh[0])\n",
    "print('corr_oe')\n",
    "print(np.corrcoef(oe))\n",
    "print('cov_x')\n",
    "print(cov_x)\n",
    "\n",
    "cov_x_sum = [np.sum(np.abs(row)) for row in cov_x]\n",
    "print('cov_x_sum')\n",
    "print(cov_x_sum) "
   ]
  }
 ],
 "metadata": {
  "kernelspec": {
   "display_name": "py3.11",
   "language": "python",
   "name": "python3"
  },
  "language_info": {
   "codemirror_mode": {
    "name": "ipython",
    "version": 3
   },
   "file_extension": ".py",
   "mimetype": "text/x-python",
   "name": "python",
   "nbconvert_exporter": "python",
   "pygments_lexer": "ipython3",
   "version": "3.11.5"
  }
 },
 "nbformat": 4,
 "nbformat_minor": 2
}
