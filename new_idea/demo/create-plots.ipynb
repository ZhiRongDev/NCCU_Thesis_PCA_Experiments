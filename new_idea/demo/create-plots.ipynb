{
 "cells": [
  {
   "cell_type": "code",
   "execution_count": 57,
   "metadata": {},
   "outputs": [],
   "source": [
    "# %%bash\n",
    "# CELL_LINE=\"GM12878\"\n",
    "# RESOLUTION=\"100Kb\"\n",
    "\n",
    "# for CHROM in 1 2 3 4 5 6 7 8 9 10 11 12 13 14 15 16 17 18 19 20 21 22 23 \"X\" \"Y\"\n",
    "# do\n",
    "# mkdir -p \"/home/jordan990301/PCA_Experiments/outputs/logs/EV1-covD_absSumMax/$CELL_LINE/$RESOLUTION/chr$CHROM\"\n",
    "# mkdir -p \"/home/jordan990301/PCA_Experiments/outputs/logs/EV1-covD_absSumMin/$CELL_LINE/$RESOLUTION/chr$CHROM\"\n",
    "# done\n",
    "\n",
    "# mkdir -p \"/home/jordan990301/PCA_Experiments/outputs/plots/EV1-covD_absSumMax/$CELL_LINE/$RESOLUTION/line\"\n",
    "# mkdir -p \"/home/jordan990301/PCA_Experiments/outputs/plots/EV1-covD_absSumMax/$CELL_LINE/$RESOLUTION/scatter\"\n",
    "# mkdir -p \"/home/jordan990301/PCA_Experiments/outputs/plots/EV1-covD_absSumMin/$CELL_LINE/$RESOLUTION/line\"\n",
    "# mkdir -p \"/home/jordan990301/PCA_Experiments/outputs/plots/EV1-covD_absSumMin/$CELL_LINE/$RESOLUTION/scatter\""
   ]
  },
  {
   "cell_type": "code",
   "execution_count": 58,
   "metadata": {},
   "outputs": [],
   "source": [
    "import numpy as np\n",
    "import pandas as pd\n",
    "from matplotlib import pyplot as plt\n",
    "np.set_printoptions(suppress=True)"
   ]
  },
  {
   "cell_type": "code",
   "execution_count": 59,
   "metadata": {},
   "outputs": [],
   "source": [
    "cell_line = 'GM12878'\n",
    "resolution = \"100Kb\"\n",
    "figsize = 50\n",
    "input_path = f\"/home/jordan990301/PCA_Experiments/data/juicer_outputs/{cell_line}/{resolution}/origin\""
   ]
  },
  {
   "cell_type": "code",
   "execution_count": 60,
   "metadata": {},
   "outputs": [],
   "source": [
    "chrom_list = ['1', '2', '3', '4', '5', '6', '7', '8', '9', '10', '11', '12', '13', '14', '15', '16', '17', '18', '19', '20', '21', '22', 'X', 'Y']"
   ]
  },
  {
   "cell_type": "code",
   "execution_count": 61,
   "metadata": {},
   "outputs": [
    {
     "data": {
      "text/plain": [
       "<Figure size 5000x500 with 0 Axes>"
      ]
     },
     "metadata": {},
     "output_type": "display_data"
    }
   ],
   "source": [
    "for chrom in chrom_list:\n",
    "    # Read in the Pearson correlatin matrix\n",
    "    pearson_df = pd.read_table(f\"{input_path}/origin_pearson_chrom{chrom}.txt\", header=None, sep=\" \")\n",
    "    pearson_df.pop(pearson_df.columns[-1])\n",
    "    pearson_df = pearson_df.dropna(axis=0, how=\"all\").reset_index(drop=True)\n",
    "    pearson_df = pearson_df.dropna(axis=1, how=\"all\")\n",
    "    pearson_np = pearson_df.values # Turn into numpy format\n",
    "\n",
    "    # Read in the Eigenvector 1\n",
    "    EV1_df = pd.read_table(f\"{input_path}/origin_pc1_chrom{chrom}.txt\", header=None, sep=\" \")\n",
    "    EV1_df = EV1_df.dropna(axis=0, how=\"all\").reset_index(drop=True)\n",
    "    EV1_np = EV1_df.values # Turn into numpy format\n",
    "    EV1_np = EV1_np.flatten() # Turn into 1D vector\n",
    "\n",
    "    if len(pearson_np) == len(EV1_np) and len(pearson_np) == len(pearson_np[0]):\n",
    "        # According the steps in SVD, set x as pearson_df, and set y as x' / np.sqrt(n)\n",
    "        n = len(pearson_np)\n",
    "        pearson_T_np = np.transpose(pearson_np)\n",
    "        y_np = pearson_T_np / np.sqrt(n)\n",
    "        cov_np = np.matmul(np.transpose(y_np), y_np) # Covariance matrix of pearson_df\n",
    "\n",
    "        # Main idea\n",
    "        cov_absSum = [np.sum(np.abs(row)) for row in cov_np] \n",
    "        cov_absSum = list(enumerate(cov_absSum)) # Turn list into tuple with index, ex: (index, absSum)\n",
    "        sorted_cov_absSum = sorted(cov_absSum, key=lambda x: x[1], reverse=True) \n",
    "    \n",
    "        for sorted_index in [0, -1]:\n",
    "            # The sign of the pearson with the largest absSum in cov_pearson_np_absSum should correspond with the patterns of EV1.\n",
    "            cov_selected_np = cov_np[sorted_cov_absSum[sorted_index][0]]\n",
    "\n",
    "            # Flip the sign if the corrcoef of cov_pearson_np_Selected and EV1_np is negative.\n",
    "            if np.corrcoef(cov_selected_np, EV1_np)[0][1] < 0:\n",
    "                cov_selected_np = -cov_selected_np\n",
    "\n",
    "            EV1_pos_np = EV1_np > 0\n",
    "            cov_selected_pos_np = cov_selected_np > 0\n",
    "            EV1_pos_VS_cov_selected_pos_np = EV1_pos_np == cov_selected_pos_np\n",
    "\n",
    "            if sorted_index == 0:\n",
    "                log_path = f\"/home/jordan990301/PCA_Experiments/outputs/logs/EV1-covD_absSumMax/{cell_line}/{resolution}\" \n",
    "                linePlot_path = f\"/home/jordan990301/PCA_Experiments/outputs/plots/EV1-covD_absSumMax/{cell_line}/{resolution}/line\" \n",
    "                scatterPlot_path = f\"/home/jordan990301/PCA_Experiments/outputs/plots/EV1-covD_absSumMax/{cell_line}/{resolution}/scatter\" \n",
    "            elif sorted_index == -1:\n",
    "                log_path = f\"/home/jordan990301/PCA_Experiments/outputs/logs/EV1-covD_absSumMin/{cell_line}/{resolution}\" \n",
    "                linePlot_path = f\"/home/jordan990301/PCA_Experiments/outputs/plots/EV1-covD_absSumMin/{cell_line}/{resolution}/line\" \n",
    "                scatterPlot_path = f\"/home/jordan990301/PCA_Experiments/outputs/plots/EV1-covD_absSumMin/{cell_line}/{resolution}/scatter\" \n",
    "            \n",
    "            with open(f\"{log_path}/chr{chrom}/patterns.txt\", \"w+\") as f:\n",
    "                for i in EV1_pos_VS_cov_selected_pos_np:\n",
    "                    f.write(str(i))\n",
    "                    f.write('\\n')\n",
    "        \n",
    "            correctNum = list(EV1_pos_VS_cov_selected_pos_np).count(True)\n",
    "            correctRate = correctNum / len(pearson_np)\n",
    "        \n",
    "            # Visualization\n",
    "            plot_x_axis = [i + 1 for i in range(len(pearson_np))]\n",
    "            EV1_Colors = ['b' if i else 'r' for i in EV1_pos_np]\n",
    "            cov_selected_Dots = [1 if i else -1 for i in cov_selected_pos_np]\n",
    "\n",
    "            plt.xticks(np.arange(0, len(pearson_np), 50)) \n",
    "            plt.rcParams[\"figure.figsize\"] = [figsize, 5]\n",
    "            plt.rcParams[\"figure.autolayout\"] = True\n",
    "            plt.title(f\"entry: {len(pearson_np)}, correctNum = {correctNum}, correctRate={correctRate}\", fontsize=50)\n",
    "            \n",
    "            plt.scatter(plot_x_axis, cov_selected_Dots, c=EV1_Colors)\n",
    "            plt.savefig(f'{scatterPlot_path}/{cell_line}_chr{chrom}.png')\n",
    "            plt.clf() \n",
    "\n",
    "            cov_pearson_np_Selected_Norm = (cov_selected_np - np.mean(cov_selected_np)) / np.std(cov_selected_np)\n",
    "            EV1_np_Norm = (EV1_np - np.mean(EV1_np)) / np.std(EV1_np)\n",
    "            \n",
    "            plt.xticks(np.arange(0, len(pearson_np), 50)) \n",
    "            plt.rcParams[\"figure.figsize\"] = [figsize, 5]\n",
    "            plt.rcParams[\"figure.autolayout\"] = True\n",
    "            plt.title(f\"entry: {len(pearson_np)}, correctNum = {correctNum}, correctRate={correctRate}\", fontsize=50)\n",
    "            \n",
    "            plt.plot(EV1_np_Norm, c='r')\n",
    "            plt.plot(cov_pearson_np_Selected_Norm, c='b')\n",
    "            plt.savefig(f'{linePlot_path}/{cell_line}_chr{chrom}.png')\n",
    "            plt.clf()"
   ]
  },
  {
   "cell_type": "code",
   "execution_count": null,
   "metadata": {},
   "outputs": [],
   "source": []
  }
 ],
 "metadata": {
  "kernelspec": {
   "display_name": "py3.11",
   "language": "python",
   "name": "python3"
  },
  "language_info": {
   "codemirror_mode": {
    "name": "ipython",
    "version": 3
   },
   "file_extension": ".py",
   "mimetype": "text/x-python",
   "name": "python",
   "nbconvert_exporter": "python",
   "pygments_lexer": "ipython3",
   "version": "3.11.5"
  }
 },
 "nbformat": 4,
 "nbformat_minor": 2
}
