{
 "cells": [
  {
   "cell_type": "code",
   "execution_count": 3,
   "metadata": {},
   "outputs": [
    {
     "name": "stdout",
     "output_type": "stream",
     "text": [
      "WARN [2023-12-26T16:35:31,627]  [Globals.java:138] [main]  Development mode is enabled\n",
      "Reading file: /home/jordan990301/PCA_Experiments/data/juicer_example/test.hic\n",
      "WARN [2023-12-26T16:35:32,296]  [Globals.java:138] [main]  Development mode is enabled\n"
     ]
    }
   ],
   "source": [
    "%%bash\n",
    "HIC_PATH=\"/home/jordan990301/PCA_Experiments/data/juicer_example/test.hic\"\n",
    "OUTPUT_PATH=\"/home/jordan990301/PCA_Experiments/outputs/test\"\n",
    "JUICER_TOOLS_PATH=\"/home/jordan990301/PCA_Experiments/juicer/juicer_tools.jar\"\n",
    "\n",
    "java -jar $JUICER_TOOLS_PATH pearsons KR $HIC_PATH 5 BP 1000000 $OUTPUT_PATH/pearson_matrix.txt\n",
    "java -jar $JUICER_TOOLS_PATH eigenvector KR $HIC_PATH 5 BP 1000000 $OUTPUT_PATH/eigenvector.txt"
   ]
  },
  {
   "cell_type": "code",
   "execution_count": 13,
   "metadata": {},
   "outputs": [],
   "source": [
    "\n",
    "import numpy as np\n",
    "import pandas as pd\n",
    "import hicstraw\n",
    "from sklearn.decomposition import PCA\n",
    "from numpy import dot\n",
    "from numpy.linalg import norm\n",
    "\n",
    "hic_path = \"/home/jordan990301/PCA_Experiments/data/juicer_example/test.hic\"\n",
    "output_path = \"/home/jordan990301/PCA_Experiments/outputs/test\""
   ]
  },
  {
   "cell_type": "code",
   "execution_count": 14,
   "metadata": {},
   "outputs": [],
   "source": [
    "### Calculated from juicer_tools\n",
    "pearson_df = pd.read_table(f\"/home/jordan990301/PCA_Experiments/outputs/test/pearson_matrix.txt\", header=None, sep=\" \")\n",
    "pearson_df.pop(pearson_df.columns[-1])\n",
    "\n",
    "pearson_df = pearson_df.dropna(axis=0, how=\"all\").reset_index(drop=True)\n",
    "pearson_df = pearson_df.dropna(axis=1, how=\"all\")\n",
    "\n",
    "numpy_pearson_df = pearson_df.values\n",
    "pearson_df = pd.DataFrame(numpy_pearson_df)\n",
    "\n",
    "#### Calc PCA\n",
    "pca = PCA(n_components=len(pearson_df[0]))\n",
    "pca.fit(pearson_df)\n",
    "\n",
    "My_PC1 = pca.components_[0]\n",
    "My_PC2 = pca.components_[1]\n",
    "np.savetxt(f'{output_path}/chrm1_PC1.txt', My_PC1, delimiter='\\n', fmt='%1.4f')\n",
    "np.savetxt(f'{output_path}/chrm1_PC2.txt', My_PC2, delimiter='\\n', fmt='%1.4f')"
   ]
  }
 ],
 "metadata": {
  "kernelspec": {
   "display_name": "py3.11",
   "language": "python",
   "name": "python3"
  },
  "language_info": {
   "codemirror_mode": {
    "name": "ipython",
    "version": 3
   },
   "file_extension": ".py",
   "mimetype": "text/x-python",
   "name": "python",
   "nbconvert_exporter": "python",
   "pygments_lexer": "ipython3",
   "version": "3.11.5"
  }
 },
 "nbformat": 4,
 "nbformat_minor": 2
}
