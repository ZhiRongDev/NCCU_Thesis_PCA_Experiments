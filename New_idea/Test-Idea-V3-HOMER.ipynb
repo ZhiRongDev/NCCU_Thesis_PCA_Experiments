{
 "cells": [
  {
   "cell_type": "markdown",
   "metadata": {},
   "source": [
    "HOMER perform PCA on correlation matrix <br>\n",
    "http://homer.ucsd.edu/homer/interactions2/HiCpca.html"
   ]
  },
  {
   "cell_type": "code",
   "execution_count": 55,
   "metadata": {},
   "outputs": [],
   "source": [
    "import numpy as np\n",
    "import sympy\n",
    "from sympy import lambdify\n",
    "np.set_printoptions(suppress=True)\n",
    "np.set_printoptions(precision=2)"
   ]
  },
  {
   "cell_type": "code",
   "execution_count": 56,
   "metadata": {},
   "outputs": [
    {
     "name": "stdout",
     "output_type": "stream",
     "text": [
      "0.5491557078917478 \n",
      "\n",
      "[[20.27  5.76  3.5   4.75  9.73  9.75]\n",
      " [ 5.76 32.88 20.71 21.33 14.39  6.47]\n",
      " [ 3.5  20.71  4.58 24.81  1.09 14.33]\n",
      " [ 4.75 21.33 24.81  1.67  6.62  7.34]\n",
      " [ 9.73 14.39  1.09  6.62 24.99 18.04]\n",
      " [ 9.75  6.47 14.33  7.34 18.04 54.57]] \n",
      "\n"
     ]
    }
   ],
   "source": [
    "def generate_oe_matrix(variance_threshold_L = 0.5, variance_threshold_U = 0.6):\n",
    "    \"\"\"Generates a random 5x5 symmetric matrix with positive values and\n",
    "       the first PC explaining at least L% and at most U% of the variance.\n",
    "    \"\"\"\n",
    "\n",
    "    while True:\n",
    "        # Create a nxn array with random positive values\n",
    "        matrix = np.abs(np.random.randn(6, 6) * 10)  # Use absolute values for positive entries\n",
    "        # Make the array symmetric\n",
    "        matrix = matrix + matrix.T\n",
    "        \n",
    "        origin_matrix = matrix\n",
    "\n",
    "        # Subtract the mean of each row to center the data\n",
    "        matrix = matrix - matrix.mean(axis=1, keepdims=True)\n",
    "\n",
    "        # SVD \n",
    "        n = len(matrix[0])\n",
    "        matrix_t = np.transpose(matrix)\n",
    "        y = matrix_t / np.sqrt(n)\n",
    "        U, S, Vh = np.linalg.svd(y, full_matrices=True)\n",
    "        eigenvalues = S * S\n",
    "        EV1_explained_variance = eigenvalues[0] / np.sum(eigenvalues) \n",
    "\n",
    "        # Check if the first PC explains at least the desired variance\n",
    "        if EV1_explained_variance >= variance_threshold_L and EV1_explained_variance < variance_threshold_U:\n",
    "            print(EV1_explained_variance, '\\n')\n",
    "            print(origin_matrix, '\\n')\n",
    "            return origin_matrix\n",
    "\n",
    "# Generate a matrix that meets the conditions\n",
    "oe = generate_oe_matrix()"
   ]
  },
  {
   "cell_type": "code",
   "execution_count": 57,
   "metadata": {},
   "outputs": [],
   "source": [
    "corr_oe = np.corrcoef(oe)\n",
    "# Subtract the mean of each row to center the data\n",
    "corr_oe_zero = corr_oe - corr_oe.mean(axis=1, keepdims=True)"
   ]
  },
  {
   "cell_type": "markdown",
   "metadata": {},
   "source": [
    "### PCA"
   ]
  },
  {
   "cell_type": "code",
   "execution_count": 58,
   "metadata": {},
   "outputs": [
    {
     "name": "stdout",
     "output_type": "stream",
     "text": [
      "explained_variances\n",
      "[0.74 0.12 0.09 0.05 0.   0.  ]\n",
      "Vh[0]\n",
      "[-0.47  0.56  0.31  0.4  -0.33 -0.33]\n",
      "corr_oe\n",
      "[[ 1.   -0.72 -0.48 -0.5   0.24  0.07]\n",
      " [-0.72  1.    0.52  0.6  -0.22 -0.57]\n",
      " [-0.48  0.52  1.   -0.08 -0.18 -0.06]\n",
      " [-0.5   0.6  -0.08  1.   -0.35 -0.18]\n",
      " [ 0.24 -0.22 -0.18 -0.35  1.    0.4 ]\n",
      " [ 0.07 -0.57 -0.06 -0.18  0.4   1.  ]]\n",
      "cov_x\n",
      "[[ 0.34 -0.34 -0.21 -0.24  0.17  0.13]\n",
      " [-0.34  0.41  0.22  0.27 -0.21 -0.25]\n",
      " [-0.21  0.22  0.24  0.07 -0.11 -0.1 ]\n",
      " [-0.24  0.27  0.07  0.29 -0.18 -0.15]\n",
      " [ 0.17 -0.21 -0.11 -0.18  0.21  0.15]\n",
      " [ 0.13 -0.25 -0.1  -0.15  0.15  0.24]]\n",
      "cov_x_sum\n",
      "[1.4367773344467003, 1.7025150186470275, 0.9568457517923594, 1.2041277423978558, 1.032045223266003, 1.023582455353972]\n"
     ]
    }
   ],
   "source": [
    "n = len(corr_oe_zero[0])\n",
    "x_t = np.transpose(corr_oe_zero)\n",
    "y = x_t / np.sqrt(n)\n",
    "\n",
    "U, S, Vh = np.linalg.svd(y, full_matrices=True)\n",
    "eigenvalues = S * S\n",
    "sum_eigenvalues = np.sum(eigenvalues)\n",
    "explained_variances = eigenvalues / sum_eigenvalues\n",
    "print('explained_variances')\n",
    "print(explained_variances)\n",
    "\n",
    "cov_x = np.matmul(np.transpose(y), y)\n",
    "V_Cx = np.matmul(Vh, cov_x)\n",
    "\n",
    "print('Vh[0]')\n",
    "print(Vh[0])\n",
    "print('corr_oe')\n",
    "print(corr_oe)\n",
    "print('cov_x')\n",
    "print(cov_x)\n",
    "\n",
    "cov_x_sum = [np.sum(np.abs(row)) for row in cov_x]\n",
    "print('cov_x_sum')\n",
    "print(cov_x_sum) "
   ]
  },
  {
   "cell_type": "markdown",
   "metadata": {},
   "source": [
    "Test-V4: Confirm the reltionship between the EV1's pos-neg pattern and the corresponding Covariance matrix row.\n",
    "\n",
    "If the explained variance is high enough, the EV1's pos-neg pattern will match the pos-neg pattern of the Covariance matrix with maximal absolute value sum of that row (compare to every row of the covariance matirx)"
   ]
  }
 ],
 "metadata": {
  "kernelspec": {
   "display_name": "py3.11",
   "language": "python",
   "name": "python3"
  },
  "language_info": {
   "codemirror_mode": {
    "name": "ipython",
    "version": 3
   },
   "file_extension": ".py",
   "mimetype": "text/x-python",
   "name": "python",
   "nbconvert_exporter": "python",
   "pygments_lexer": "ipython3",
   "version": "3.11.5"
  }
 },
 "nbformat": 4,
 "nbformat_minor": 2
}
