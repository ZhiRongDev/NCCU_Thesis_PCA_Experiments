{
 "cells": [
  {
   "cell_type": "code",
   "execution_count": 479,
   "metadata": {},
   "outputs": [],
   "source": [
    "import numpy as np\n",
    "np.set_printoptions(suppress=True)"
   ]
  },
  {
   "cell_type": "markdown",
   "metadata": {},
   "source": [
    "* y\n",
    "* y = 2x + 1\n",
    "* y = -2x + 10\n",
    "* y = 3x + 1\n",
    "* y = -3x + 15"
   ]
  },
  {
   "cell_type": "code",
   "execution_count": 480,
   "metadata": {},
   "outputs": [],
   "source": [
    "# x = np.array([[1, 2, 3, 4, 5], [3, 5, 7, 9, 11], [8, 6, 4, 2, 0], [4, 7, 10, 13, 16], [12, 9, 6, 3, 0]])\n",
    "\n",
    "# x = np.array(\n",
    "#     [\n",
    "#         [ 8.27159,     4.68336895,  9.13376062, 14.95777334, 10.27004708],\n",
    "#         [ 4.68336895,  0.7610481,   2.53578632, 14.58413486,  8.93209007],\n",
    "#         [ 9.13376062,  2.53578632, 10.12321066, 13.32925066,  5.20644467],\n",
    "#         [14.95777334, 14.58413486, 13.32925066, 10.65992706, 14.62357189],\n",
    "#         [10.27004708,  8.93209007,  5.20644467, 14.62357189, 17.42619585]\n",
    "#     ]\n",
    "# )\n",
    "\n",
    "# x = np.array(\n",
    "#     [\n",
    "#         [ 0.827159,     0.468336895,  0.913376062, 0.1495777334, 0.1027004708],\n",
    "#         [ 0.468336895,  0.07610481,   0.253578632, 0.1458413486,  0.893209007],\n",
    "#         [ 0.913376062,  0.253578632, 0.1012321066, 0.1332925066,  0.520644467],\n",
    "#         [0.1495777334, 0.1458413486, 0.1332925066, 0.1065992706, 0.1462357189],\n",
    "#         [0.1027004708,  0.893209007,  0.520644467, 0.1462357189, 0.1742619585]\n",
    "#     ]\n",
    "# )"
   ]
  },
  {
   "cell_type": "code",
   "execution_count": 481,
   "metadata": {},
   "outputs": [
    {
     "data": {
      "text/plain": [
       "array([[ 8.51282747,  4.43074988, 14.99500328],\n",
       "       [ 4.43074988, 13.85127769, 12.43470134],\n",
       "       [14.99500328, 12.43470134, 16.6955006 ]])"
      ]
     },
     "metadata": {},
     "output_type": "display_data"
    }
   ],
   "source": [
    "# x = o/e matrix \n",
    "# Create a nxn array with random positive values\n",
    "x = np.random.rand(3, 3) * 10\n",
    "\n",
    "# Make the array symmetric\n",
    "x = x + x.T\n",
    "\n",
    "# Ensure all values are positive\n",
    "x[x < 0] = np.random.rand() * 10\n",
    "\n",
    "# Print the array\n",
    "display(x)"
   ]
  },
  {
   "cell_type": "code",
   "execution_count": 482,
   "metadata": {},
   "outputs": [
    {
     "data": {
      "text/plain": [
       "array([[-0.80003274, -4.88211033,  5.68214307],\n",
       "       [-5.80815975,  3.61236805,  2.1957917 ],\n",
       "       [ 0.28660154, -2.2737004 ,  1.98709886]])"
      ]
     },
     "execution_count": 482,
     "metadata": {},
     "output_type": "execute_result"
    }
   ],
   "source": [
    "### Zero mean\n",
    "for i in range(len(x)):\n",
    "    x[i] = x[i] - np.mean(x[i])\n",
    "x"
   ]
  },
  {
   "cell_type": "code",
   "execution_count": 483,
   "metadata": {},
   "outputs": [
    {
     "data": {
      "text/plain": [
       "array([[ 1.        , -0.00946854,  0.96979509],\n",
       "       [-0.00946854,  1.        , -0.25309266],\n",
       "       [ 0.96979509, -0.25309266,  1.        ]])"
      ]
     },
     "metadata": {},
     "output_type": "display_data"
    }
   ],
   "source": [
    "corr_x = np.corrcoef(x)\n",
    "display(corr_x)"
   ]
  },
  {
   "cell_type": "code",
   "execution_count": 484,
   "metadata": {},
   "outputs": [
    {
     "name": "stdout",
     "output_type": "stream",
     "text": [
      "1.0\n",
      "0.00000000000000000000\n",
      "\n",
      "-0.009028233686219632\n",
      "0.00000000000000029873\n",
      "\n",
      "0.39044118147996554\n",
      "0.00000000000000106864\n",
      "\n"
     ]
    }
   ],
   "source": [
    "x1 = x[0]\n",
    "pred_x = np.array([x1])\n",
    "mean_x1 = np.mean(x1)\n",
    "std_x1 = np.std(x1)\n",
    "\n",
    "for index, xj in enumerate(x):\n",
    "    xj = np.array([xj])\n",
    "    mean_xj = np.mean(xj)\n",
    "    std_xj = np.std(xj)\n",
    "    \n",
    "    r = corr_x[index][0]\n",
    "    # print(r)\n",
    "    \n",
    "    ### pred_xj = r * (std_xj / std_x1) * (x1 - mean_x1) + mean_xj\n",
    "    ### y = a * x + b\n",
    "    a = r * (std_xj / std_x1)\n",
    "    b = -(r * (std_xj / std_x1) * mean_x1) + mean_xj\n",
    "    pred_xj = a * x1 + b\n",
    "    print(a)\n",
    "    print(f'{b:.20f}\\n')\n",
    "\n",
    "    pred_xj = np.array([pred_xj])\n",
    "\n",
    "    if index != 0:\n",
    "        pred_x = np.concatenate((pred_x, pred_xj), axis=0)\n"
   ]
  },
  {
   "cell_type": "code",
   "execution_count": 485,
   "metadata": {},
   "outputs": [
    {
     "data": {
      "text/plain": [
       "array([[ 1.        , -0.00946854,  0.96979509],\n",
       "       [-0.00946854,  1.        , -0.25309266],\n",
       "       [ 0.96979509, -0.25309266,  1.        ]])"
      ]
     },
     "metadata": {},
     "output_type": "display_data"
    },
    {
     "data": {
      "text/plain": [
       "array([[ 1., -1.,  1.],\n",
       "       [-1.,  1., -1.],\n",
       "       [ 1., -1.,  1.]])"
      ]
     },
     "metadata": {},
     "output_type": "display_data"
    }
   ],
   "source": [
    "corr_pred_x = np.corrcoef(pred_x)\n",
    "\n",
    "display(corr_x)\n",
    "display(np.round(corr_pred_x, 8))"
   ]
  },
  {
   "cell_type": "code",
   "execution_count": 486,
   "metadata": {},
   "outputs": [
    {
     "data": {
      "text/plain": [
       "array([[-0.80003274, -4.88211033,  5.68214307],\n",
       "       [-5.80815975,  3.61236805,  2.1957917 ],\n",
       "       [ 0.28660154, -2.2737004 ,  1.98709886]])"
      ]
     },
     "metadata": {},
     "output_type": "display_data"
    },
    {
     "data": {
      "text/plain": [
       "array([[-0.80003274, -4.88211033,  5.68214307],\n",
       "       [ 0.00722288,  0.04407683, -0.05129972],\n",
       "       [-0.31236573, -1.90617692,  2.21854265]])"
      ]
     },
     "metadata": {},
     "output_type": "display_data"
    }
   ],
   "source": [
    "display(np.round(x, 8))\n",
    "display(np.round(pred_x, 8))"
   ]
  },
  {
   "cell_type": "markdown",
   "metadata": {},
   "source": [
    "### PCA"
   ]
  },
  {
   "cell_type": "code",
   "execution_count": 487,
   "metadata": {},
   "outputs": [
    {
     "data": {
      "text/plain": [
       "array([21.97820146, 17.21101291,  0.        ])"
      ]
     },
     "metadata": {},
     "output_type": "display_data"
    },
    {
     "data": {
      "text/plain": [
       "array([0.56082271, 0.43917729, 0.        ])"
      ]
     },
     "metadata": {},
     "output_type": "display_data"
    },
    {
     "data": {
      "text/plain": [
       "1.0"
      ]
     },
     "metadata": {},
     "output_type": "display_data"
    },
    {
     "data": {
      "text/plain": [
       "array([[ True, False,  True],\n",
       "       [False,  True, False],\n",
       "       [ True, False,  True]])"
      ]
     },
     "metadata": {},
     "output_type": "display_data"
    },
    {
     "data": {
      "text/plain": [
       "array([[ True, False,  True],\n",
       "       [False, False,  True],\n",
       "       [False,  True,  True]])"
      ]
     },
     "metadata": {},
     "output_type": "display_data"
    },
    {
     "data": {
      "text/plain": [
       "array([[ True, False,  True],\n",
       "       [False, False,  True],\n",
       "       [False, False,  True]])"
      ]
     },
     "metadata": {},
     "output_type": "display_data"
    },
    {
     "data": {
      "text/plain": [
       "array([[ True,  True,  True],\n",
       "       [ True,  True,  True],\n",
       "       [ True, False,  True]])"
      ]
     },
     "metadata": {},
     "output_type": "display_data"
    }
   ],
   "source": [
    "arr = [x]\n",
    "EV1 = []\n",
    "\n",
    "for target_x in arr:\n",
    "    n = len(target_x[0])\n",
    "\n",
    "    x_t = np.transpose(target_x)\n",
    "    y = x_t / np.sqrt(n)\n",
    "\n",
    "    U, S, Vh = np.linalg.svd(y, full_matrices=True)\n",
    "    eigenvalues = S * S\n",
    "    sum_eigenvalues = np.sum(eigenvalues)\n",
    "    explained_variances = eigenvalues / sum_eigenvalues\n",
    "    display(eigenvalues)\n",
    "    display(explained_variances)\n",
    "    display(np.sum(explained_variances))\n",
    "\n",
    "    cov_x = np.matmul(np.transpose(y), y)\n",
    "    V_Cx = np.matmul(Vh, cov_x)\n",
    "    \n",
    "    # print(np.matmul(V_Cx, np.transpose(Vh)))\n",
    "    # print(f'{np.matmul(V_Cx[0], Vh[1]):.20f}\\n')\n",
    "    # print(f'{np.matmul(Vh[0], Vh[0]):.20f}\\n')\n",
    "\n",
    "    ## Confirm that XV = US\n",
    "    # display(np.matmul(y, np.transpose(Vh))) \n",
    "    # display(np.matmul(U, np.diag(S)))\n",
    "\n",
    "    ## Confirm that the mean of project vector y equals to zero.\n",
    "    # project_y = np.matmul(Vh[0], target_x)\n",
    "    # display(project_y)\n",
    "    # display(np.mean(project_y))\n",
    "    \n",
    "    ## EV1\n",
    "    EV1 = (Vh[0])\n",
    "    # display(Vh[0])\n",
    "    \n",
    "    # display(np.round(V_Cx, 6))\n",
    "    # display(np.round(Vh, 6))\n",
    "    # display(np.round(cov_x, 6))\n",
    "\n",
    "    display(corr_x > 0)\n",
    "    display(Vh > 0)\n",
    "    display(V_Cx > 0)\n",
    "    display((Vh > 0) == (V_Cx > 0))"
   ]
  },
  {
   "cell_type": "markdown",
   "metadata": {},
   "source": [
    "#### New idea: Predict EV1 matrix"
   ]
  },
  {
   "cell_type": "code",
   "execution_count": 488,
   "metadata": {},
   "outputs": [],
   "source": [
    "# EV1_Vote_Matrix = corr_x > 0\n",
    "# EV1_Pred_Result = []\n",
    "\n",
    "# EV1_Vote_Matrix = np.dstack((x, EV1_Vote_Matrix))\n",
    "\n",
    "# for row in EV1_Vote_Matrix:\n",
    "#     # display(row)\n",
    "#     pos_abs_sum = 0\n",
    "#     neg_abs_sum = 0\n",
    "\n",
    "#     for entry in row:\n",
    "#         if entry[1]:\n",
    "#             pos_abs_sum += abs(entry[0])\n",
    "#         else:\n",
    "#             neg_abs_sum += abs(entry[0])\n",
    "\n",
    "#     if pos_abs_sum >= neg_abs_sum:\n",
    "#         EV1_Pred_Result.append(True)\n",
    "#     else:\n",
    "#         EV1_Pred_Result.append(False)\n",
    "\n",
    "#     pos_abs_sum = 0\n",
    "#     neg_abs_sum = 0\n",
    "\n",
    "\n",
    "# # display(list(corr_x[0] > 0))\n",
    "# display(list(EV1 > 0))\n",
    "# display(EV1_Pred_Result)"
   ]
  },
  {
   "cell_type": "code",
   "execution_count": null,
   "metadata": {},
   "outputs": [],
   "source": []
  },
  {
   "cell_type": "markdown",
   "metadata": {},
   "source": [
    "y = a * x1 + Error.<br>\n",
    "a * x1 can be either positive or negative."
   ]
  },
  {
   "cell_type": "code",
   "execution_count": 489,
   "metadata": {},
   "outputs": [],
   "source": [
    "# error_x = x - pred_x\n",
    "# display(x)\n",
    "# display(pred_x)\n",
    "# display(error_x)\n",
    "# display(corr_x)"
   ]
  },
  {
   "cell_type": "code",
   "execution_count": 490,
   "metadata": {},
   "outputs": [],
   "source": [
    "# pred_EV1 = []\n",
    "# n = len(pred_x[0])\n",
    "# counter = 0\n",
    "\n",
    "# for i in range(n):\n",
    "#     for j in range(n):\n",
    "#         Leader = pred_x[i][j] if abs(pred_x[i][j]) > abs(error_x[i][j]) else error_x[i][j]\n",
    "#         if Leader > 0:\n",
    "#             counter += 1\n",
    "    \n",
    "#     print(counter)\n",
    "#     if counter > n/2:\n",
    "#         pred_EV1.append(True)\n",
    "#     else:\n",
    "#         pred_EV1.append(False)\n",
    "        \n",
    "#     counter = 0\n",
    "\n",
    "# display(pred_EV1)"
   ]
  }
 ],
 "metadata": {
  "kernelspec": {
   "display_name": "py3.11",
   "language": "python",
   "name": "python3"
  },
  "language_info": {
   "codemirror_mode": {
    "name": "ipython",
    "version": 3
   },
   "file_extension": ".py",
   "mimetype": "text/x-python",
   "name": "python",
   "nbconvert_exporter": "python",
   "pygments_lexer": "ipython3",
   "version": "3.11.5"
  }
 },
 "nbformat": 4,
 "nbformat_minor": 2
}
