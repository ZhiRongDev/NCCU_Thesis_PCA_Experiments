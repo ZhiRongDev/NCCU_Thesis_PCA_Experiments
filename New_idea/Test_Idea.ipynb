{
 "cells": [
  {
   "cell_type": "code",
   "execution_count": 718,
   "metadata": {},
   "outputs": [],
   "source": [
    "import numpy as np\n",
    "np.set_printoptions(suppress=True)"
   ]
  },
  {
   "cell_type": "markdown",
   "metadata": {},
   "source": [
    "* y\n",
    "* y = 2x + 1\n",
    "* y = -2x + 10\n",
    "* y = 3x + 1\n",
    "* y = -3x + 15"
   ]
  },
  {
   "cell_type": "code",
   "execution_count": 719,
   "metadata": {},
   "outputs": [],
   "source": [
    "# x = np.array([[1, 2, 3, 4, 5], [3, 5, 7, 9, 11], [8, 6, 4, 2, 0], [4, 7, 10, 13, 16], [12, 9, 6, 3, 0]])\n",
    "\n",
    "# x = np.array(\n",
    "#     [\n",
    "#         [ 8.27159,     4.68336895,  9.13376062, 14.95777334, 10.27004708],\n",
    "#         [ 4.68336895,  0.7610481,   2.53578632, 14.58413486,  8.93209007],\n",
    "#         [ 9.13376062,  2.53578632, 10.12321066, 13.32925066,  5.20644467],\n",
    "#         [14.95777334, 14.58413486, 13.32925066, 10.65992706, 14.62357189],\n",
    "#         [10.27004708,  8.93209007,  5.20644467, 14.62357189, 17.42619585]\n",
    "#     ]\n",
    "# )\n",
    "\n",
    "x = np.array(\n",
    "    [\n",
    "        [ 0.827159,     0.468336895,  0.913376062, 0.1495777334, 0.1027004708],\n",
    "        [ 0.468336895,  0.07610481,   0.253578632, 0.1458413486,  0.893209007],\n",
    "        [ 0.913376062,  0.253578632, 0.1012321066, 0.1332925066,  0.520644467],\n",
    "        [0.1495777334, 0.1458413486, 0.1332925066, 0.1065992706, 0.1462357189],\n",
    "        [0.1027004708,  0.893209007,  0.520644467, 0.1462357189, 0.1742619585]\n",
    "    ]\n",
    ")"
   ]
  },
  {
   "cell_type": "code",
   "execution_count": 720,
   "metadata": {},
   "outputs": [],
   "source": [
    "### Zero mean\n",
    "for i in range(len(x)):\n",
    "    x[i] = x[i] - np.mean(x[i])"
   ]
  },
  {
   "cell_type": "code",
   "execution_count": 721,
   "metadata": {},
   "outputs": [
    {
     "data": {
      "text/plain": [
       "array([[ 1.        , -0.2763315 ,  0.18560768,  0.34919255,  0.22634797],\n",
       "       [-0.2763315 ,  1.        ,  0.56283175,  0.45864124, -0.56183412],\n",
       "       [ 0.18560768,  0.56283175,  1.        ,  0.64287411, -0.48740165],\n",
       "       [ 0.34919255,  0.45864124,  0.64287411,  1.        ,  0.23762924],\n",
       "       [ 0.22634797, -0.56183412, -0.48740165,  0.23762924,  1.        ]])"
      ]
     },
     "metadata": {},
     "output_type": "display_data"
    }
   ],
   "source": [
    "corr_x = np.corrcoef(x)\n",
    "display(corr_x)"
   ]
  },
  {
   "cell_type": "code",
   "execution_count": 722,
   "metadata": {},
   "outputs": [
    {
     "name": "stdout",
     "output_type": "stream",
     "text": [
      "1.0\n",
      "-0.2763315024998684\n",
      "0.1856076800244789\n",
      "0.3491925462421577\n",
      "0.22634797329306186\n"
     ]
    }
   ],
   "source": [
    "x1 = x[0]\n",
    "pred_x = np.array([x1])\n",
    "mean_x1 = np.mean(x1)\n",
    "std_x1 = np.std(x1)\n",
    "\n",
    "for index, xj in enumerate(x):\n",
    "    xj = np.array([xj])\n",
    "    mean_xj = np.mean(xj)\n",
    "    std_xj = np.std(xj)\n",
    "    \n",
    "    r = corr_x[index][0]\n",
    "    print(r)\n",
    "    \n",
    "    ### pred_xj = r * (std_xj / std_x1) * (x1 - mean_x1) + mean_xj\n",
    "    ### y = a * x + b\n",
    "    a = r * (std_xj / std_x1)\n",
    "    b = -(r * (std_xj / std_x1) * mean_x1) + mean_xj\n",
    "    pred_xj = a * x1 + b\n",
    "    # print(a)\n",
    "    # print(f'{b:.20f}')\n",
    "\n",
    "    pred_xj = np.array([pred_xj])\n",
    "\n",
    "    if index != 0:\n",
    "        pred_x = np.concatenate((pred_x, pred_xj), axis=0)"
   ]
  },
  {
   "cell_type": "code",
   "execution_count": 723,
   "metadata": {},
   "outputs": [
    {
     "data": {
      "text/plain": [
       "array([[ 1.        , -0.2763315 ,  0.18560768,  0.34919255,  0.22634797],\n",
       "       [-0.2763315 ,  1.        ,  0.56283175,  0.45864124, -0.56183412],\n",
       "       [ 0.18560768,  0.56283175,  1.        ,  0.64287411, -0.48740165],\n",
       "       [ 0.34919255,  0.45864124,  0.64287411,  1.        ,  0.23762924],\n",
       "       [ 0.22634797, -0.56183412, -0.48740165,  0.23762924,  1.        ]])"
      ]
     },
     "metadata": {},
     "output_type": "display_data"
    },
    {
     "data": {
      "text/plain": [
       "array([[ 1., -1.,  1.,  1.,  1.],\n",
       "       [-1.,  1., -1., -1., -1.],\n",
       "       [ 1., -1.,  1.,  1.,  1.],\n",
       "       [ 1., -1.,  1.,  1.,  1.],\n",
       "       [ 1., -1.,  1.,  1.,  1.]])"
      ]
     },
     "metadata": {},
     "output_type": "display_data"
    }
   ],
   "source": [
    "corr_pred_x = np.corrcoef(pred_x)\n",
    "\n",
    "display(corr_x)\n",
    "display(np.round(corr_pred_x, 8))"
   ]
  },
  {
   "cell_type": "code",
   "execution_count": 724,
   "metadata": {},
   "outputs": [
    {
     "data": {
      "text/plain": [
       "array([[ 0.33492897, -0.02389314,  0.42114603, -0.3426523 , -0.38952956],\n",
       "       [ 0.10092276, -0.29130933, -0.11383551, -0.22157279,  0.52579487],\n",
       "       [ 0.52895131, -0.13084612, -0.28319265, -0.25113225,  0.13621971],\n",
       "       [ 0.01326842,  0.00953203, -0.00301681, -0.02971005,  0.0099264 ],\n",
       "       [-0.26470985,  0.52579868,  0.15323414, -0.22117461, -0.19314837]])"
      ]
     },
     "metadata": {},
     "output_type": "display_data"
    },
    {
     "data": {
      "text/plain": [
       "array([[ 0.33492897, -0.02389314,  0.42114603, -0.3426523 , -0.38952956],\n",
       "       [-0.08148961,  0.0058133 , -0.10246658,  0.08336873,  0.09477416],\n",
       "       [ 0.05630183, -0.00401646,  0.07079499, -0.05760013, -0.06548024],\n",
       "       [ 0.00554524, -0.00039559,  0.00697268, -0.00567311, -0.00644923],\n",
       "       [ 0.06847326, -0.00488474,  0.08609957, -0.07005222, -0.07963586]])"
      ]
     },
     "metadata": {},
     "output_type": "display_data"
    }
   ],
   "source": [
    "display(np.round(x, 8))\n",
    "display(np.round(pred_x, 8))"
   ]
  },
  {
   "cell_type": "markdown",
   "metadata": {},
   "source": [
    "### PCA"
   ]
  },
  {
   "cell_type": "code",
   "execution_count": 725,
   "metadata": {},
   "outputs": [
    {
     "data": {
      "text/plain": [
       "array([-0.24737165,  0.58691885,  0.50979519,  0.00898713, -0.57824012])"
      ]
     },
     "metadata": {},
     "output_type": "display_data"
    },
    {
     "data": {
      "text/plain": [
       "array([-0.94091861,  0.2289294 , -0.15816919, -0.01557827, -0.19236246])"
      ]
     },
     "metadata": {},
     "output_type": "display_data"
    }
   ],
   "source": [
    "arr = [x, pred_x]\n",
    "\n",
    "for target_x in arr:\n",
    "    n = len(target_x[0])\n",
    "    x_t = np.transpose(target_x)\n",
    "    y = x_t / np.sqrt(n)\n",
    "\n",
    "    U, S, Vh = np.linalg.svd(y, full_matrices=True)\n",
    "    eigenvalues = S * S\n",
    "    sum_eigenvalues = np.sum(eigenvalues)\n",
    "    explained_variances = eigenvalues / sum_eigenvalues\n",
    "\n",
    "    # display(explained_variances)\n",
    "    # display(np.sum(explained_variances))\n",
    "    \n",
    "    ## Confirm that XV = US\n",
    "    # display(np.matmul(y, np.transpose(Vh))) \n",
    "    # display(np.matmul(U, np.diag(S)))\n",
    "    \n",
    "    ## EV1\n",
    "    display(Vh[0])"
   ]
  },
  {
   "cell_type": "code",
   "execution_count": 726,
   "metadata": {},
   "outputs": [
    {
     "data": {
      "text/plain": [
       "array([[ 1.        , -0.2763315 ,  0.18560768,  0.34919255,  0.22634797],\n",
       "       [-0.2763315 ,  1.        ,  0.56283175,  0.45864124, -0.56183412],\n",
       "       [ 0.18560768,  0.56283175,  1.        ,  0.64287411, -0.48740165],\n",
       "       [ 0.34919255,  0.45864124,  0.64287411,  1.        ,  0.23762924],\n",
       "       [ 0.22634797, -0.56183412, -0.48740165,  0.23762924,  1.        ]])"
      ]
     },
     "metadata": {},
     "output_type": "display_data"
    },
    {
     "data": {
      "text/plain": [
       "array([[ 1., -1.,  1.,  1.,  1.],\n",
       "       [-1.,  1., -1., -1., -1.],\n",
       "       [ 1., -1.,  1.,  1.,  1.],\n",
       "       [ 1., -1.,  1.,  1.,  1.],\n",
       "       [ 1., -1.,  1.,  1.,  1.]])"
      ]
     },
     "metadata": {},
     "output_type": "display_data"
    }
   ],
   "source": [
    "display(corr_x)\n",
    "display(corr_pred_x)"
   ]
  },
  {
   "cell_type": "code",
   "execution_count": null,
   "metadata": {},
   "outputs": [],
   "source": []
  }
 ],
 "metadata": {
  "kernelspec": {
   "display_name": "py3.11",
   "language": "python",
   "name": "python3"
  },
  "language_info": {
   "codemirror_mode": {
    "name": "ipython",
    "version": 3
   },
   "file_extension": ".py",
   "mimetype": "text/x-python",
   "name": "python",
   "nbconvert_exporter": "python",
   "pygments_lexer": "ipython3",
   "version": "3.11.5"
  }
 },
 "nbformat": 4,
 "nbformat_minor": 2
}
