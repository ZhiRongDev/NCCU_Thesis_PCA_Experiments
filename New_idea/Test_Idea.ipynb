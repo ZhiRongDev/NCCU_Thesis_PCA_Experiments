{
 "cells": [
  {
   "cell_type": "code",
   "execution_count": 415,
   "metadata": {},
   "outputs": [],
   "source": [
    "import numpy as np\n",
    "import sympy\n",
    "from sympy import lambdify\n",
    "np.set_printoptions(suppress=True)"
   ]
  },
  {
   "cell_type": "markdown",
   "metadata": {},
   "source": [
    "* y\n",
    "* y = 2x + 1\n",
    "* y = -2x + 10\n",
    "* y = 3x + 1\n",
    "* y = -3x + 15"
   ]
  },
  {
   "cell_type": "code",
   "execution_count": 416,
   "metadata": {},
   "outputs": [],
   "source": [
    "# x = np.array([[1, 2, 3, 4, 5], [3, 5, 7, 9, 11], [8, 6, 4, 2, 0], [4, 7, 10, 13, 16], [12, 9, 6, 3, 0]])\n",
    "\n",
    "# x = np.array(\n",
    "#     [\n",
    "#         [ 8.27159,     4.68336895,  9.13376062, 14.95777334, 10.27004708],\n",
    "#         [ 4.68336895,  0.7610481,   2.53578632, 14.58413486,  8.93209007],\n",
    "#         [ 9.13376062,  2.53578632, 10.12321066, 13.32925066,  5.20644467],\n",
    "#         [14.95777334, 14.58413486, 13.32925066, 10.65992706, 14.62357189],\n",
    "#         [10.27004708,  8.93209007,  5.20644467, 14.62357189, 17.42619585]\n",
    "#     ]\n",
    "# )\n",
    "\n",
    "# x = np.array(\n",
    "#     [\n",
    "#         [ 0.827159,     0.468336895,  0.913376062, 0.1495777334, 0.1027004708],\n",
    "#         [ 0.468336895,  0.07610481,   0.253578632, 0.1458413486,  0.893209007],\n",
    "#         [ 0.913376062,  0.253578632, 0.1012321066, 0.1332925066,  0.520644467],\n",
    "#         [0.1495777334, 0.1458413486, 0.1332925066, 0.1065992706, 0.1462357189],\n",
    "#         [0.1027004708,  0.893209007,  0.520644467, 0.1462357189, 0.1742619585]\n",
    "#     ]\n",
    "# )"
   ]
  },
  {
   "cell_type": "code",
   "execution_count": 417,
   "metadata": {},
   "outputs": [
    {
     "data": {
      "text/plain": [
       "array([[ 1.3442322 ,  8.92604679, 10.03644935, 12.39513998,  8.63651788],\n",
       "       [ 8.92604679,  8.34674989, 10.54291084, 16.99944417,  4.01816922],\n",
       "       [10.03644935, 10.54291084, 19.28281392, 11.84014122, 12.81038423],\n",
       "       [12.39513998, 16.99944417, 11.84014122, 14.94492131,  9.14944645],\n",
       "       [ 8.63651788,  4.01816922, 12.81038423,  9.14944645,  3.69615037]])"
      ]
     },
     "metadata": {},
     "output_type": "display_data"
    }
   ],
   "source": [
    "# x = o/e matrix \n",
    "# Create a nxn array with random positive values\n",
    "x = np.random.rand(5, 5) * 10\n",
    "\n",
    "# Make the array symmetric\n",
    "x = x + x.T\n",
    "\n",
    "# Ensure all values are positive\n",
    "x[x < 0] = np.random.rand() * 10\n",
    "\n",
    "# Print the array\n",
    "display(x)"
   ]
  },
  {
   "cell_type": "code",
   "execution_count": 418,
   "metadata": {},
   "outputs": [
    {
     "data": {
      "text/plain": [
       "array([[-6.92344504,  0.65836955,  1.76877211,  4.12746274,  0.36884064],\n",
       "       [-0.84061739, -1.4199143 ,  0.77624666,  7.23277999, -5.74849496],\n",
       "       [-2.86609056, -2.35962907,  6.38027401, -1.0623987 , -0.09215568],\n",
       "       [-0.67067865,  3.93362554, -1.22567741,  1.87910269, -3.91637218],\n",
       "       [ 0.97438425, -3.64396441,  5.1482506 ,  1.48731282, -3.96598326]])"
      ]
     },
     "execution_count": 418,
     "metadata": {},
     "output_type": "execute_result"
    }
   ],
   "source": [
    "### Zero mean\n",
    "for i in range(len(x)):\n",
    "    x[i] = x[i] - np.mean(x[i])\n",
    "x"
   ]
  },
  {
   "cell_type": "code",
   "execution_count": 419,
   "metadata": {},
   "outputs": [
    {
     "data": {
      "text/plain": [
       "array([[ 1.        ,  0.43557538,  0.40702309,  0.22788542,  0.07305188],\n",
       "       [ 0.43557538,  1.        ,  0.05065822,  0.53109969,  0.58095927],\n",
       "       [ 0.40702309,  0.05065822,  1.        , -0.37423035,  0.65531674],\n",
       "       [ 0.22788542,  0.53109969, -0.37423035,  1.        , -0.06437078],\n",
       "       [ 0.07305188,  0.58095927,  0.65531674, -0.06437078,  1.        ]])"
      ]
     },
     "metadata": {},
     "output_type": "display_data"
    }
   ],
   "source": [
    "corr_x = np.corrcoef(x)\n",
    "display(corr_x)"
   ]
  },
  {
   "cell_type": "code",
   "execution_count": 420,
   "metadata": {},
   "outputs": [
    {
     "name": "stdout",
     "output_type": "stream",
     "text": [
      "1.0\n",
      "0.00000000000000000000\n",
      "\n",
      "0.49500277989068747\n",
      "-0.00000000000000000710\n",
      "\n",
      "0.36634136756501307\n",
      "0.00000000000000123115\n",
      "\n",
      "0.1656759545720591\n",
      "-0.00000000000000011983\n",
      "\n",
      "0.0675266141505299\n",
      "-0.00000000000000043695\n",
      "\n"
     ]
    }
   ],
   "source": [
    "x1 = x[0]\n",
    "pred_x = np.array([x1])\n",
    "mean_x1 = np.mean(x1)\n",
    "std_x1 = np.std(x1)\n",
    "\n",
    "for index, xj in enumerate(x):\n",
    "    xj = np.array([xj])\n",
    "    mean_xj = np.mean(xj)\n",
    "    std_xj = np.std(xj)\n",
    "    \n",
    "    r = corr_x[index][0]\n",
    "    # print(r)\n",
    "    \n",
    "    ### pred_xj = r * (std_xj / std_x1) * (x1 - mean_x1) + mean_xj\n",
    "    ### y = a * x + b\n",
    "    a = r * (std_xj / std_x1)\n",
    "    b = -(r * (std_xj / std_x1) * mean_x1) + mean_xj\n",
    "    pred_xj = a * x1 + b\n",
    "    print(a)\n",
    "    print(f'{b:.20f}\\n')\n",
    "\n",
    "    pred_xj = np.array([pred_xj])\n",
    "\n",
    "    if index != 0:\n",
    "        pred_x = np.concatenate((pred_x, pred_xj), axis=0)\n"
   ]
  },
  {
   "cell_type": "code",
   "execution_count": 421,
   "metadata": {},
   "outputs": [
    {
     "data": {
      "text/plain": [
       "array([[ 1.        ,  0.43557538,  0.40702309,  0.22788542,  0.07305188],\n",
       "       [ 0.43557538,  1.        ,  0.05065822,  0.53109969,  0.58095927],\n",
       "       [ 0.40702309,  0.05065822,  1.        , -0.37423035,  0.65531674],\n",
       "       [ 0.22788542,  0.53109969, -0.37423035,  1.        , -0.06437078],\n",
       "       [ 0.07305188,  0.58095927,  0.65531674, -0.06437078,  1.        ]])"
      ]
     },
     "metadata": {},
     "output_type": "display_data"
    },
    {
     "data": {
      "text/plain": [
       "array([[1., 1., 1., 1., 1.],\n",
       "       [1., 1., 1., 1., 1.],\n",
       "       [1., 1., 1., 1., 1.],\n",
       "       [1., 1., 1., 1., 1.],\n",
       "       [1., 1., 1., 1., 1.]])"
      ]
     },
     "metadata": {},
     "output_type": "display_data"
    }
   ],
   "source": [
    "corr_pred_x = np.corrcoef(pred_x)\n",
    "\n",
    "display(corr_x)\n",
    "display(np.round(corr_pred_x, 8))"
   ]
  },
  {
   "cell_type": "code",
   "execution_count": 422,
   "metadata": {},
   "outputs": [
    {
     "data": {
      "text/plain": [
       "array([[-6.92344504,  0.65836955,  1.76877211,  4.12746274,  0.36884064],\n",
       "       [-0.84061739, -1.4199143 ,  0.77624666,  7.23277999, -5.74849496],\n",
       "       [-2.86609056, -2.35962907,  6.38027401, -1.0623987 , -0.09215568],\n",
       "       [-0.67067865,  3.93362554, -1.22567741,  1.87910269, -3.91637218],\n",
       "       [ 0.97438425, -3.64396441,  5.1482506 ,  1.48731282, -3.96598326]])"
      ]
     },
     "metadata": {},
     "output_type": "display_data"
    },
    {
     "data": {
      "text/plain": [
       "array([[-6.92344504,  0.65836955,  1.76877211,  4.12746274,  0.36884064],\n",
       "       [-3.42712454,  0.32589476,  0.87554711,  2.04310553,  0.18257714],\n",
       "       [-2.53634433,  0.241188  ,  0.64797439,  1.51206034,  0.13512158],\n",
       "       [-1.14704837,  0.109076  ,  0.29304301,  0.68382133,  0.06110802],\n",
       "       [-0.4675168 ,  0.04445747,  0.11943919,  0.27871358,  0.02490656]])"
      ]
     },
     "metadata": {},
     "output_type": "display_data"
    }
   ],
   "source": [
    "display(np.round(x, 8))\n",
    "display(np.round(pred_x, 8))"
   ]
  },
  {
   "cell_type": "markdown",
   "metadata": {},
   "source": [
    "### PCA"
   ]
  },
  {
   "cell_type": "code",
   "execution_count": 423,
   "metadata": {},
   "outputs": [
    {
     "name": "stdout",
     "output_type": "stream",
     "text": [
      "[0.996658432172425 0.996658432172425 0.996658432172425 0.996658432172422\n",
      " 0.996658432172425]\n",
      "[-0.362774764002706, 0.426087200060045, 0.547152645347740, -0.0378159653018875, -0.626701593871859]\n",
      "[-0.36156253  0.4246634   0.5453243  -0.0376896  -0.62460743]\n",
      "\n",
      "\n",
      "[[13.73361772  6.79817895  5.0311923   2.27533023  0.9273847 ]\n",
      " [ 6.79817895 17.73673074  0.71161669  6.0262654   8.38143725]\n",
      " [ 5.0311923   0.71161669 11.12548091 -3.36305389  7.48766981]\n",
      " [ 2.27533023  6.0262654  -3.36305389  7.25890056 -0.59410093]\n",
      " [ 0.9273847   8.38143725  7.48766981 -0.59410093 11.73470162]]\n"
     ]
    }
   ],
   "source": [
    "arr = [x]\n",
    "EV1 = []\n",
    "\n",
    "for target_x in arr:\n",
    "    n = len(target_x[0])\n",
    "\n",
    "    x_t = np.transpose(target_x)\n",
    "    y = x_t / np.sqrt(n)\n",
    "\n",
    "    U, S, Vh = np.linalg.svd(y, full_matrices=True)\n",
    "    eigenvalues = S * S\n",
    "    sum_eigenvalues = np.sum(eigenvalues)\n",
    "    explained_variances = eigenvalues / sum_eigenvalues\n",
    "    # display(eigenvalues)\n",
    "    # display(explained_variances)\n",
    "    # display(np.sum(explained_variances))\n",
    "\n",
    "    cov_x = np.matmul(np.transpose(y), y)\n",
    "    V_Cx = np.matmul(Vh, cov_x)\n",
    "    \n",
    "    # print(np.matmul(V_Cx, np.transpose(Vh)))\n",
    "    # print(f'{np.matmul(V_Cx[0], Vh[1]):.20f}\\n')\n",
    "    # print(f'{np.matmul(Vh[0], Vh[0]):.20f}\\n')\n",
    "\n",
    "    ## Confirm that XV = US\n",
    "    # display(np.matmul(y, np.transpose(Vh))) \n",
    "    # display(np.matmul(U, np.diag(S)))\n",
    "\n",
    "    ## Confirm that the mean of project vector y equals to zero.\n",
    "    # project_y = np.matmul(Vh[0], target_x)\n",
    "    # display(project_y)\n",
    "    # display(np.mean(project_y))\n",
    "    \n",
    "    ## EV1\n",
    "    EV1 = (Vh[0])\n",
    "    # display(Vh[0])\n",
    "    # print(Vh)\n",
    "    \n",
    "\n",
    "    # display(np.round(cov_x, 6))\n",
    "    # print(np.dot(Vh[-1], cov_x[0]))\n",
    "    # print(np.dot(Vh[-1], cov_x[1]))\n",
    "    # print(np.dot(Vh[-1], cov_x[2]))\n",
    "    # print(np.dot(Vh[-1], cov_x[3]))\n",
    "    # print(np.dot(Vh[-1], cov_x[4]))\n",
    "\n",
    "    cov_x_GaussForm = []\n",
    "    add_col = []\n",
    "    for i in range(len(cov_x[0])):\n",
    "        add_col.append([np.dot(Vh[-1], cov_x[i])])\n",
    "\n",
    "    add_col = np.array(add_col)\n",
    "\n",
    "    cov_x_GaussForm = np.concatenate((cov_x, add_col), axis=1)\n",
    "    cov_x_rref = sympy.Matrix(cov_x_GaussForm).rref()\n",
    "    Base_Vec = []\n",
    "    \n",
    "    for i in cov_x_rref[0]:\n",
    "        if i != 0 and i != 1:\n",
    "            Base_Vec.append(i)\n",
    "    \n",
    "    print(Vh[-1] / Base_Vec)\n",
    "    print(Base_Vec)\n",
    "    print(Vh[-1])\n",
    "    print('\\n')\n",
    "    print(cov_x)\n",
    "\n",
    "    # print(np.dot(EV1, Base_Vec))\n",
    "\n",
    "    # display(corr_x > 0)\n",
    "    # display(Vh > 0)\n",
    "    # display(V_Cx > 0)\n",
    "    # display((Vh > 0) == (V_Cx > 0))\n"
   ]
  },
  {
   "cell_type": "code",
   "execution_count": 424,
   "metadata": {},
   "outputs": [],
   "source": [
    "# import sympy\n",
    "## row echelon form\n",
    "# sympy.Matrix([[1, 0, 2, 4, -8],[0, 1, -3, -1, 6], [-3, -1, -3, 1, -6], [-1, 1, -5, -2, 8]]).rref()"
   ]
  },
  {
   "cell_type": "markdown",
   "metadata": {},
   "source": [
    "#### New idea: Predict EV1 matrix"
   ]
  },
  {
   "cell_type": "code",
   "execution_count": 425,
   "metadata": {},
   "outputs": [],
   "source": [
    "# EV1_Vote_Matrix = corr_x > 0\n",
    "# EV1_Pred_Result = []\n",
    "\n",
    "# EV1_Vote_Matrix = np.dstack((x, EV1_Vote_Matrix))\n",
    "\n",
    "# for row in EV1_Vote_Matrix:\n",
    "#     # display(row)\n",
    "#     pos_abs_sum = 0\n",
    "#     neg_abs_sum = 0\n",
    "\n",
    "#     for entry in row:\n",
    "#         if entry[1]:\n",
    "#             pos_abs_sum += abs(entry[0])\n",
    "#         else:\n",
    "#             neg_abs_sum += abs(entry[0])\n",
    "\n",
    "#     if pos_abs_sum >= neg_abs_sum:\n",
    "#         EV1_Pred_Result.append(True)\n",
    "#     else:\n",
    "#         EV1_Pred_Result.append(False)\n",
    "\n",
    "#     pos_abs_sum = 0\n",
    "#     neg_abs_sum = 0\n",
    "\n",
    "\n",
    "# # display(list(corr_x[0] > 0))\n",
    "# display(list(EV1 > 0))\n",
    "# display(EV1_Pred_Result)"
   ]
  },
  {
   "cell_type": "code",
   "execution_count": 426,
   "metadata": {},
   "outputs": [],
   "source": [
    "# display()"
   ]
  },
  {
   "cell_type": "markdown",
   "metadata": {},
   "source": [
    "y = a * x1 + Error.<br>\n",
    "a * x1 can be either positive or negative."
   ]
  },
  {
   "cell_type": "code",
   "execution_count": 427,
   "metadata": {},
   "outputs": [],
   "source": [
    "# error_x = x - pred_x\n",
    "# display(x)\n",
    "# display(pred_x)\n",
    "# display(error_x)\n",
    "# display(corr_x)"
   ]
  },
  {
   "cell_type": "code",
   "execution_count": 428,
   "metadata": {},
   "outputs": [],
   "source": [
    "# pred_EV1 = []\n",
    "# n = len(pred_x[0])\n",
    "# counter = 0\n",
    "\n",
    "# for i in range(n):\n",
    "#     for j in range(n):\n",
    "#         Leader = pred_x[i][j] if abs(pred_x[i][j]) > abs(error_x[i][j]) else error_x[i][j]\n",
    "#         if Leader > 0:\n",
    "#             counter += 1\n",
    "    \n",
    "#     print(counter)\n",
    "#     if counter > n/2:\n",
    "#         pred_EV1.append(True)\n",
    "#     else:\n",
    "#         pred_EV1.append(False)\n",
    "        \n",
    "#     counter = 0\n",
    "\n",
    "# display(pred_EV1)"
   ]
  }
 ],
 "metadata": {
  "kernelspec": {
   "display_name": "py3.11",
   "language": "python",
   "name": "python3"
  },
  "language_info": {
   "codemirror_mode": {
    "name": "ipython",
    "version": 3
   },
   "file_extension": ".py",
   "mimetype": "text/x-python",
   "name": "python",
   "nbconvert_exporter": "python",
   "pygments_lexer": "ipython3",
   "version": "3.11.5"
  }
 },
 "nbformat": 4,
 "nbformat_minor": 2
}
