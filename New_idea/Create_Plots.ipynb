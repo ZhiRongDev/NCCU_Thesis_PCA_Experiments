{
 "cells": [
  {
   "cell_type": "code",
   "execution_count": 5,
   "metadata": {},
   "outputs": [
    {
     "data": {
      "text/plain": [
       "' \\n    for flipping the True and False value in list.\\n    https://bobbyhadz.com/blog/python-negate-boolean \\n'"
      ]
     },
     "execution_count": 5,
     "metadata": {},
     "output_type": "execute_result"
    }
   ],
   "source": [
    "import numpy as np\n",
    "import pandas as pd\n",
    "import hicstraw\n",
    "from matplotlib import pyplot as plt\n",
    "\n",
    "import operator \n",
    "\"\"\" \n",
    "    for flipping the True and False value in list.\n",
    "    https://bobbyhadz.com/blog/python-negate-boolean \n",
    "\"\"\""
   ]
  },
  {
   "cell_type": "code",
   "execution_count": 6,
   "metadata": {},
   "outputs": [],
   "source": [
    "hic_path = \"/media/jordan990301/Samsung_T5/HiC_Datasets/Rao_2014/GM12878/MAPQGE30/GSE63525_GM12878_insitu_primary_replicate_combined_30.hic\"\n",
    "input_path = \"/home/jordan990301/PCA_Experiments/outputs/GM12878/100Kb/origin\"\n",
    "output_plot_path = \"/home/jordan990301/PCA_Experiments/outputs/plots/EV1_VS_CorrEntry1/100Kb\"\n",
    "output_log_path = \"/home/jordan990301/PCA_Experiments/outputs/Logs/EV1_VS_CorrEntry1/100Kb\""
   ]
  },
  {
   "cell_type": "code",
   "execution_count": 7,
   "metadata": {},
   "outputs": [
    {
     "name": "stdout",
     "output_type": "stream",
     "text": [
      "['1', '2', '3', '4', '5', '6', '7', '8', '9', '10', '11', '12', '13', '14', '15', '16', '17', '18', '19', '20', '21', '22', 'X', 'Y']\n"
     ]
    }
   ],
   "source": [
    "hic = hicstraw.HiCFile(hic_path)\n",
    "chrom_list = []\n",
    "\n",
    "for chrom in hic.getChromosomes():\n",
    "    if (chrom.name != \"All\" and chrom.name != \"MT\"):\n",
    "        chrom_list.append(chrom.name)\n",
    "\n",
    "print(chrom_list)"
   ]
  },
  {
   "cell_type": "code",
   "execution_count": 8,
   "metadata": {},
   "outputs": [
    {
     "data": {
      "text/plain": [
       "<Figure size 2000x1000 with 0 Axes>"
      ]
     },
     "metadata": {},
     "output_type": "display_data"
    }
   ],
   "source": [
    "for chrom in chrom_list:\n",
    "    # Read in the Pearson correlatin matrix\n",
    "    pearson_df = pd.read_table(f\"{input_path}/origin_pearson_chrom{chrom}.txt\", header=None, sep=\" \")\n",
    "    pearson_df.pop(pearson_df.columns[-1])\n",
    "    pearson_df = pearson_df.dropna(axis=0, how=\"all\").reset_index(drop=True)\n",
    "    pearson_df = pearson_df.dropna(axis=1, how=\"all\")\n",
    "    # These code are required since dropping the columns in pandas can't be renamed to index directly. \n",
    "    numpy_pearson_df = pearson_df.values\n",
    "    pearson_df = pd.DataFrame(numpy_pearson_df)\n",
    "    pearson_df = pd.DataFrame(pearson_df[0])\n",
    "\n",
    "    # Read in the Eigenvector 1\n",
    "    EV1_df = pd.read_table(f\"{input_path}/origin_pc1_chrom{chrom}.txt\", header=None, sep=\" \")\n",
    "    EV1_df = EV1_df.dropna(axis=0, how=\"all\").reset_index(drop=True)\n",
    "\n",
    "    # Compare the difference between the sign of these two signals.\n",
    "    Pearson_Entry1_Pos = pearson_df > 0\n",
    "    EV1_Pos = EV1_df > 0\n",
    "    \n",
    "    # Turn into python list\n",
    "    Pearson_Entry1_Pos = list(Pearson_Entry1_Pos[0].values)\n",
    "    EV1_Pos = list(EV1_Pos[0].values)\n",
    "    \n",
    "    Difference_Count = 0\n",
    "    for i in range(len(Pearson_Entry1_Pos)):\n",
    "        if(Pearson_Entry1_Pos[i] != EV1_Pos[i]):\n",
    "            Difference_Count += 1\n",
    "\n",
    "    with open(f'{output_log_path}/GM12878_Chr{chrom}_EV1_CorrEntry1_diff.txt',\"w+\") as f:\n",
    "        f.write(\"Pearson_Entry1_Pos entry num: \")\n",
    "        f.write(str(len(Pearson_Entry1_Pos)))\n",
    "\n",
    "        f.write(\"\\n\")\n",
    "        f.write(\"EV1_Pos entry num: \")\n",
    "        f.write(str(len(EV1_Pos)))\n",
    "\n",
    "        f.write(\"\\n\")\n",
    "        f.write(\"Difference_Count: \")\n",
    "        f.write(str(Difference_Count))\n",
    "    \n",
    "    \"\"\"_summary_\n",
    "        The operator.not_ method is mostly used when you need to flip a list of boolean values with map().\n",
    "        https://bobbyhadz.com/blog/python-negate-boolean \n",
    "        Since the sign of EV1 were arbitrary asigned, sometimes we need to flip the EV1 to match the result of CorrEntry1.\n",
    "    \"\"\"\n",
    "    if Difference_Count > 0.5 * len(Pearson_Entry1_Pos):\n",
    "        EV1_Pos = list(map(operator.not_, EV1_Pos))\n",
    "\n",
    "    # Visualization\n",
    "    EV1_Viz = []\n",
    "    Pearson_Entry1_Viz = []\n",
    "    plt.xticks(np.arange(0, len(Pearson_Entry1_Pos), 50)) \n",
    "    plt.rcParams[\"figure.figsize\"] = [20, 10]\n",
    "    plt.rcParams[\"figure.autolayout\"] = True\n",
    "\n",
    "    for i in EV1_Pos:\n",
    "        if i:\n",
    "            EV1_Viz.append(1)\n",
    "        else:\n",
    "            EV1_Viz.append(-1)\n",
    "\n",
    "    plt.plot(EV1_Viz, color=\"blue\", label=\"EV1\")\n",
    "\n",
    "    for i in Pearson_Entry1_Pos:\n",
    "        if i:\n",
    "            Pearson_Entry1_Viz.append(0.5)\n",
    "        else:\n",
    "            Pearson_Entry1_Viz.append(-0.5)\n",
    "\n",
    "    plt.plot(Pearson_Entry1_Viz, color=\"red\", label=\"CorrEntry1\")\n",
    "    \n",
    "    plt.legend(loc=\"upper left\")\n",
    "    plt.savefig(f'{output_plot_path}/GM12878_Chr{chrom}_100Kb.png')\n",
    "    \n",
    "    # Reset the plt configure.\n",
    "    plt.clf()"
   ]
  }
 ],
 "metadata": {
  "kernelspec": {
   "display_name": "py3.11",
   "language": "python",
   "name": "python3"
  },
  "language_info": {
   "codemirror_mode": {
    "name": "ipython",
    "version": 3
   },
   "file_extension": ".py",
   "mimetype": "text/x-python",
   "name": "python",
   "nbconvert_exporter": "python",
   "pygments_lexer": "ipython3",
   "version": "3.11.5"
  }
 },
 "nbformat": 4,
 "nbformat_minor": 2
}
