{
 "cells": [
  {
   "cell_type": "markdown",
   "metadata": {},
   "source": [
    "Compare the difference.<br>"
   ]
  },
  {
   "cell_type": "code",
   "execution_count": 1,
   "metadata": {},
   "outputs": [],
   "source": [
    "import numpy as np\n",
    "import sympy\n",
    "from sympy import lambdify\n",
    "np.set_printoptions(suppress=True)\n",
    "np.set_printoptions(precision=2)"
   ]
  },
  {
   "cell_type": "code",
   "execution_count": 2,
   "metadata": {},
   "outputs": [
    {
     "name": "stdout",
     "output_type": "stream",
     "text": [
      "0.5543560869957909 \n",
      "\n",
      "[[12.71  7.55 21.55 22.32 16.11  2.62]\n",
      " [ 7.55 58.12 11.04  9.17  2.64  7.07]\n",
      " [21.55 11.04 10.86  6.48 28.39 33.14]\n",
      " [22.32  9.17  6.48 12.95 15.2  18.21]\n",
      " [16.11  2.64 28.39 15.2   0.99  5.77]\n",
      " [ 2.62  7.07 33.14 18.21  5.77 14.77]] \n",
      "\n"
     ]
    }
   ],
   "source": [
    "def generate_oe_matrix(variance_threshold_L = 0.5, variance_threshold_U = 0.6):\n",
    "    \"\"\"Generates a random 5x5 symmetric matrix with positive values and\n",
    "       the first PC explaining at least L% and at most U% of the variance.\n",
    "    \"\"\"\n",
    "\n",
    "    while True:\n",
    "        # Create a nxn array with random positive values\n",
    "        matrix = np.abs(np.random.randn(6, 6) * 10)  # Use absolute values for positive entries\n",
    "        # Make the array symmetric\n",
    "        matrix = matrix + matrix.T\n",
    "        \n",
    "        origin_matrix = matrix\n",
    "\n",
    "        # Subtract the mean of each row to center the data\n",
    "        matrix = matrix - matrix.mean(axis=1, keepdims=True)\n",
    "\n",
    "        # SVD \n",
    "        n = len(matrix[0])\n",
    "        matrix_t = np.transpose(matrix)\n",
    "        y = matrix_t / np.sqrt(n)\n",
    "        U, S, Vh = np.linalg.svd(y, full_matrices=True)\n",
    "        eigenvalues = S * S\n",
    "        EV1_explained_variance = eigenvalues[0] / np.sum(eigenvalues) \n",
    "\n",
    "        # Check if the first PC explains at least the desired variance\n",
    "        if EV1_explained_variance >= variance_threshold_L and EV1_explained_variance < variance_threshold_U:\n",
    "            print(EV1_explained_variance, '\\n')\n",
    "            print(origin_matrix, '\\n')\n",
    "            return origin_matrix\n",
    "\n",
    "# Generate a matrix that meets the conditions\n",
    "oe = generate_oe_matrix()\n",
    "corr_oe = np.corrcoef(oe)"
   ]
  },
  {
   "cell_type": "code",
   "execution_count": 3,
   "metadata": {},
   "outputs": [],
   "source": [
    "# Subtract the mean of each row to center the data\n",
    "oe_zero = oe - oe.mean(axis=1, keepdims=True)\n",
    "corr_oe_zero = corr_oe - corr_oe.mean(axis=1, keepdims=True)"
   ]
  },
  {
   "cell_type": "markdown",
   "metadata": {},
   "source": [
    "### PCA\n",
    "MOSAIC perform PCA on O/E matrix <br>"
   ]
  },
  {
   "cell_type": "code",
   "execution_count": 4,
   "metadata": {},
   "outputs": [
    {
     "name": "stdout",
     "output_type": "stream",
     "text": [
      "explained_variances\n",
      "[0.55 0.33 0.07 0.04 0.01 0.  ]\n",
      "Vh[0]\n",
      "[ 0.13 -0.94  0.19  0.11  0.18  0.13]\n",
      "corr_oe\n",
      "[[ 1.   -0.35 -0.62 -0.4   0.62  0.49]\n",
      " [-0.35  1.   -0.43 -0.47 -0.3  -0.19]\n",
      " [-0.62 -0.43  1.    0.65 -0.5  -0.41]\n",
      " [-0.4  -0.47  0.65  1.   -0.29 -0.66]\n",
      " [ 0.62 -0.3  -0.5  -0.29  1.    0.74]\n",
      " [ 0.49 -0.19 -0.41 -0.66  0.74  1.  ]]\n",
      "cov_x\n",
      "[[ 50.56 -46.95 -43.21 -15.07  42.09  35.4 ]\n",
      " [-46.95 362.45 -80.47 -47.15 -54.92 -36.11]\n",
      " [-43.21 -80.47  96.66  34.17 -46.85 -41.64]\n",
      " [-15.07 -47.15  34.17  28.24 -14.4  -36.02]\n",
      " [ 42.09 -54.92 -46.85 -14.4   90.29  71.63]\n",
      " [ 35.4  -36.11 -41.64 -36.02  71.63 104.83]]\n",
      "cov_x_sum\n",
      "[233.2887211068036, 628.0475132483288, 342.99427947713866, 175.05979833533155, 320.1811487128789, 325.6265643803839]\n"
     ]
    }
   ],
   "source": [
    "n = len(oe_zero[0])\n",
    "x_t = np.transpose(oe_zero)\n",
    "y = x_t / np.sqrt(n)\n",
    "\n",
    "U, S, Vh = np.linalg.svd(y, full_matrices=True)\n",
    "eigenvalues = S * S\n",
    "sum_eigenvalues = np.sum(eigenvalues)\n",
    "explained_variances = eigenvalues / sum_eigenvalues\n",
    "print('explained_variances')\n",
    "print(explained_variances)\n",
    "\n",
    "cov_x = np.matmul(np.transpose(y), y)\n",
    "V_Cx = np.matmul(Vh, cov_x)\n",
    "\n",
    "print('Vh[0]')\n",
    "print(Vh[0])\n",
    "print('corr_oe')\n",
    "print(np.corrcoef(oe))\n",
    "print('cov_x')\n",
    "print(cov_x)\n",
    "\n",
    "cov_x_sum = [np.sum(np.abs(row)) for row in cov_x]\n",
    "print('cov_x_sum')\n",
    "print(cov_x_sum) "
   ]
  },
  {
   "cell_type": "markdown",
   "metadata": {},
   "source": [
    "HOMER perform PCA on correlation matrix <br>"
   ]
  },
  {
   "cell_type": "code",
   "execution_count": 5,
   "metadata": {},
   "outputs": [
    {
     "name": "stdout",
     "output_type": "stream",
     "text": [
      "explained_variances\n",
      "[0.75 0.21 0.03 0.01 0.   0.  ]\n",
      "Vh[0]\n",
      "[-0.44 -0.04  0.47  0.44 -0.43 -0.46]\n",
      "corr_oe\n",
      "[[ 1.   -0.35 -0.62 -0.4   0.62  0.49]\n",
      " [-0.35  1.   -0.43 -0.47 -0.3  -0.19]\n",
      " [-0.62 -0.43  1.    0.65 -0.5  -0.41]\n",
      " [-0.4  -0.47  0.65  1.   -0.29 -0.66]\n",
      " [ 0.62 -0.3  -0.5  -0.29  1.    0.74]\n",
      " [ 0.49 -0.19 -0.41 -0.66  0.74  1.  ]]\n",
      "cov_x\n",
      "[[ 0.37 -0.07 -0.3  -0.25  0.33  0.32]\n",
      " [-0.07  0.26 -0.13 -0.15 -0.08 -0.03]\n",
      " [-0.3  -0.13  0.4   0.36 -0.28 -0.3 ]\n",
      " [-0.25 -0.15  0.36  0.39 -0.24 -0.31]\n",
      " [ 0.33 -0.08 -0.28 -0.24  0.35  0.34]\n",
      " [ 0.32 -0.03 -0.3  -0.31  0.34  0.38]]\n",
      "cov_x_sum\n",
      "[1.6396344948773771, 0.7082331691686853, 1.771831144319623, 1.7057074520937712, 1.614210379129011, 1.6724815809186344]\n"
     ]
    }
   ],
   "source": [
    "n = len(corr_oe_zero[0])\n",
    "x_t = np.transpose(corr_oe_zero)\n",
    "y = x_t / np.sqrt(n)\n",
    "\n",
    "U, S, Vh = np.linalg.svd(y, full_matrices=True)\n",
    "eigenvalues = S * S\n",
    "sum_eigenvalues = np.sum(eigenvalues)\n",
    "explained_variances = eigenvalues / sum_eigenvalues\n",
    "print('explained_variances')\n",
    "print(explained_variances)\n",
    "\n",
    "cov_x = np.matmul(np.transpose(y), y)\n",
    "V_Cx = np.matmul(Vh, cov_x)\n",
    "\n",
    "print('Vh[0]')\n",
    "print(Vh[0])\n",
    "print('corr_oe')\n",
    "print(np.corrcoef(oe))\n",
    "print('cov_x')\n",
    "print(cov_x)\n",
    "\n",
    "cov_x_sum = [np.sum(np.abs(row)) for row in cov_x]\n",
    "print('cov_x_sum')\n",
    "print(cov_x_sum) "
   ]
  }
 ],
 "metadata": {
  "kernelspec": {
   "display_name": "py3.11",
   "language": "python",
   "name": "python3"
  },
  "language_info": {
   "codemirror_mode": {
    "name": "ipython",
    "version": 3
   },
   "file_extension": ".py",
   "mimetype": "text/x-python",
   "name": "python",
   "nbconvert_exporter": "python",
   "pygments_lexer": "ipython3",
   "version": "3.11.5"
  }
 },
 "nbformat": 4,
 "nbformat_minor": 2
}
