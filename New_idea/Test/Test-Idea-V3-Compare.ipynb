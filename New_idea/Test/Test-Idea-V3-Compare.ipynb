{
 "cells": [
  {
   "cell_type": "markdown",
   "metadata": {},
   "source": [
    "Compare the difference.<br>"
   ]
  },
  {
   "cell_type": "code",
   "execution_count": 11,
   "metadata": {},
   "outputs": [],
   "source": [
    "import numpy as np\n",
    "import sympy\n",
    "from sympy import lambdify\n",
    "np.set_printoptions(suppress=True)\n",
    "np.set_printoptions(precision=2)"
   ]
  },
  {
   "cell_type": "code",
   "execution_count": 12,
   "metadata": {},
   "outputs": [
    {
     "name": "stdout",
     "output_type": "stream",
     "text": [
      "0.7288478997946667 \n",
      "\n",
      "[[37.93 16.22 11.56  9.81 10.87 28.04]\n",
      " [16.22 54.03  4.39 39.99  2.35 12.37]\n",
      " [11.56  4.39  3.96 10.95 13.45 20.1 ]\n",
      " [ 9.81 39.99 10.95 21.21  9.28 14.54]\n",
      " [10.87  2.35 13.45  9.28 21.38 11.49]\n",
      " [28.04 12.37 20.1  14.54 11.49 27.51]] \n",
      "\n"
     ]
    }
   ],
   "source": [
    "def generate_oe_matrix(variance_threshold_L = 0.7, variance_threshold_U = 0.8):\n",
    "    \"\"\"Generates a random 5x5 symmetric matrix with positive values and\n",
    "       the first PC explaining at least L% and at most U% of the variance.\n",
    "    \"\"\"\n",
    "\n",
    "    while True:\n",
    "        # Create a nxn array with random positive values\n",
    "        matrix = np.abs(np.random.randn(6, 6) * 10)  # Use absolute values for positive entries\n",
    "        # Make the array symmetric\n",
    "        matrix = matrix + matrix.T\n",
    "        \n",
    "        origin_matrix = matrix\n",
    "\n",
    "        # Subtract the mean of each row to center the data\n",
    "        matrix = matrix - matrix.mean(axis=1, keepdims=True)\n",
    "\n",
    "        # SVD \n",
    "        n = len(matrix[0])\n",
    "        matrix_t = np.transpose(matrix)\n",
    "        y = matrix_t / np.sqrt(n)\n",
    "        U, S, Vh = np.linalg.svd(y, full_matrices=True)\n",
    "        eigenvalues = S * S\n",
    "        EV1_explained_variance = eigenvalues[0] / np.sum(eigenvalues) \n",
    "\n",
    "        # Check if the first PC explains at least the desired variance\n",
    "        if EV1_explained_variance >= variance_threshold_L and EV1_explained_variance < variance_threshold_U:\n",
    "            print(EV1_explained_variance, '\\n')\n",
    "            print(origin_matrix, '\\n')\n",
    "            return origin_matrix\n",
    "\n",
    "# Generate a matrix that meets the conditions\n",
    "oe = generate_oe_matrix()\n",
    "corr_oe = np.corrcoef(oe)"
   ]
  },
  {
   "cell_type": "code",
   "execution_count": 13,
   "metadata": {},
   "outputs": [],
   "source": [
    "# Subtract the mean of each row to center the data\n",
    "oe_zero = oe - oe.mean(axis=1, keepdims=True)\n",
    "corr_oe_zero = corr_oe - corr_oe.mean(axis=1, keepdims=True)"
   ]
  },
  {
   "cell_type": "markdown",
   "metadata": {},
   "source": [
    "### PCA\n",
    "MOSAIC perform PCA on O/E matrix <br>"
   ]
  },
  {
   "cell_type": "code",
   "execution_count": 14,
   "metadata": {},
   "outputs": [
    {
     "name": "stdout",
     "output_type": "stream",
     "text": [
      "explained_variances\n",
      "[0.73 0.21 0.03 0.02 0.01 0.  ]\n",
      "V_Cx[0]\n",
      "[ -54.8   423.72  -54.39  233.25 -107.75  -71.97]\n",
      "Vh[0]\n",
      "[-0.11  0.84 -0.11  0.46 -0.21 -0.14]\n",
      "corr_oe\n",
      "[[ 1.   -0.13  0.42 -0.23 -0.17  0.85]\n",
      " [-0.13  1.   -0.36  0.92 -0.87 -0.39]\n",
      " [ 0.42 -0.36  1.   -0.43  0.38  0.45]\n",
      " [-0.23  0.92 -0.43  1.   -0.83 -0.47]\n",
      " [-0.17 -0.87  0.38 -0.83  1.   -0.03]\n",
      " [ 0.85 -0.39  0.45 -0.47 -0.03  1.  ]]\n",
      "cov_x\n",
      "[[108.95 -26.65  24.04 -25.59 -10.18  60.05]\n",
      " [-26.65 361.85 -38.08 189.58 -92.98 -49.77]\n",
      " [ 24.04 -38.08  30.33 -25.66  11.76  16.74]\n",
      " [-25.59 189.58 -25.66 116.33 -50.52 -34.31]\n",
      " [-10.18 -92.98  11.76 -50.52  31.75  -1.22]\n",
      " [ 60.05 -49.77  16.74 -34.31  -1.22  45.92]]\n",
      "cov_x_sum\n",
      "[255.46334088436885, 758.9075517004069, 146.6113098833724, 441.99186352709813, 198.40988721392043, 208.00256297594615]\n"
     ]
    }
   ],
   "source": [
    "n = len(oe_zero[0])\n",
    "x_t = np.transpose(oe_zero)\n",
    "y = x_t / np.sqrt(n)\n",
    "\n",
    "U, S, Vh = np.linalg.svd(y, full_matrices=True)\n",
    "eigenvalues = S * S\n",
    "sum_eigenvalues = np.sum(eigenvalues)\n",
    "explained_variances = eigenvalues / sum_eigenvalues\n",
    "print('explained_variances')\n",
    "print(explained_variances)\n",
    "\n",
    "cov_x = np.matmul(np.transpose(y), y)\n",
    "V_Cx = np.matmul(Vh, cov_x)\n",
    "\n",
    "\n",
    "print('V_Cx[0]')\n",
    "print(V_Cx[0])\n",
    "print('Vh[0]')\n",
    "print(Vh[0])\n",
    "print('corr_oe')\n",
    "print(np.corrcoef(oe))\n",
    "print('cov_x')\n",
    "print(cov_x)\n",
    "\n",
    "cov_x_sum = [np.sum(np.abs(row)) for row in cov_x]\n",
    "print('cov_x_sum')\n",
    "print(cov_x_sum)"
   ]
  },
  {
   "cell_type": "markdown",
   "metadata": {},
   "source": [
    "HOMER perform PCA on correlation matrix <br>"
   ]
  },
  {
   "cell_type": "code",
   "execution_count": 15,
   "metadata": {},
   "outputs": [
    {
     "name": "stdout",
     "output_type": "stream",
     "text": [
      "explained_variances\n",
      "[0.79 0.19 0.02 0.   0.   0.  ]\n",
      "V_Cx[0]\n",
      "[-0.37  0.91 -0.6   0.93 -0.77 -0.57]\n",
      "Vh[0]\n",
      "[-0.21  0.51 -0.34  0.53 -0.44 -0.32]\n",
      "corr_oe\n",
      "[[ 1.   -0.13  0.42 -0.23 -0.17  0.85]\n",
      " [-0.13  1.   -0.36  0.92 -0.87 -0.39]\n",
      " [ 0.42 -0.36  1.   -0.43  0.38  0.45]\n",
      " [-0.23  0.92 -0.43  1.   -0.83 -0.47]\n",
      " [-0.17 -0.87  0.38 -0.83  1.   -0.03]\n",
      " [ 0.85 -0.39  0.45 -0.47 -0.03  1.  ]]\n",
      "cov_x\n",
      "[[ 0.25 -0.14  0.15 -0.17  0.04  0.27]\n",
      " [-0.14  0.48 -0.29  0.49 -0.43 -0.25]\n",
      " [ 0.15 -0.29  0.25 -0.3   0.25  0.21]\n",
      " [-0.17  0.49 -0.3   0.5  -0.43 -0.27]\n",
      " [ 0.04 -0.43  0.25 -0.43  0.43  0.13]\n",
      " [ 0.27 -0.25  0.21 -0.27  0.13  0.33]]\n",
      "cov_x_sum\n",
      "[1.0200685741889233, 2.0848815819927293, 1.4367412553109085, 2.163581259107753, 1.7102169368449882, 1.4660493830482904]\n"
     ]
    }
   ],
   "source": [
    "n = len(corr_oe_zero[0])\n",
    "x_t = np.transpose(corr_oe_zero)\n",
    "y = x_t / np.sqrt(n)\n",
    "\n",
    "U, S, Vh = np.linalg.svd(y, full_matrices=True)\n",
    "eigenvalues = S * S\n",
    "sum_eigenvalues = np.sum(eigenvalues)\n",
    "explained_variances = eigenvalues / sum_eigenvalues\n",
    "print('explained_variances')\n",
    "print(explained_variances)\n",
    "\n",
    "cov_x = np.matmul(np.transpose(y), y)\n",
    "V_Cx = np.matmul(Vh, cov_x)\n",
    "\n",
    "print('V_Cx[0]')\n",
    "print(V_Cx[0])\n",
    "print('Vh[0]')\n",
    "print(Vh[0])\n",
    "print('corr_oe')\n",
    "print(np.corrcoef(oe))\n",
    "print('cov_x')\n",
    "print(cov_x)\n",
    "\n",
    "cov_x_sum = [np.sum(np.abs(row)) for row in cov_x]\n",
    "print('cov_x_sum')\n",
    "print(cov_x_sum) "
   ]
  }
 ],
 "metadata": {
  "kernelspec": {
   "display_name": "py3.11",
   "language": "python",
   "name": "python3"
  },
  "language_info": {
   "codemirror_mode": {
    "name": "ipython",
    "version": 3
   },
   "file_extension": ".py",
   "mimetype": "text/x-python",
   "name": "python",
   "nbconvert_exporter": "python",
   "pygments_lexer": "ipython3",
   "version": "3.11.5"
  }
 },
 "nbformat": 4,
 "nbformat_minor": 2
}
