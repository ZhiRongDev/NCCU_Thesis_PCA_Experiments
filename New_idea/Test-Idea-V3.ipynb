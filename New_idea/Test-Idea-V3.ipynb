{
 "cells": [
  {
   "cell_type": "code",
   "execution_count": 37,
   "metadata": {},
   "outputs": [],
   "source": [
    "import numpy as np\n",
    "import sympy\n",
    "from sympy import lambdify\n",
    "np.set_printoptions(suppress=True)\n",
    "np.set_printoptions(precision=4)"
   ]
  },
  {
   "cell_type": "markdown",
   "metadata": {},
   "source": [
    "* y\n",
    "* y = 2x + 1\n",
    "* y = -2x + 10\n",
    "* y = 3x + 1\n",
    "* y = -3x + 15"
   ]
  },
  {
   "cell_type": "code",
   "execution_count": 38,
   "metadata": {},
   "outputs": [],
   "source": [
    "# x = np.array([[1, 2, 3, 4, 5], [3, 5, 7, 9, 11], [8, 6, 4, 2, 0], [4, 7, 10, 13, 16], [12, 9, 6, 3, 0]])"
   ]
  },
  {
   "cell_type": "code",
   "execution_count": 39,
   "metadata": {},
   "outputs": [
    {
     "name": "stdout",
     "output_type": "stream",
     "text": [
      "0.8209841388444634 \n",
      "\n",
      "[[ 6.6669 15.6096 20.4649  9.6963 13.7713 17.3201]\n",
      " [15.6096 13.9081 14.6768 27.0354  6.305  11.0884]\n",
      " [20.4649 14.6768  5.1669 13.1834 16.8841 18.8028]\n",
      " [ 9.6963 27.0354 13.1834  7.4831 12.2795 15.6994]\n",
      " [13.7713  6.305  16.8841 12.2795 25.7657 25.4212]\n",
      " [17.3201 11.0884 18.8028 15.6994 25.4212 82.2886]] \n",
      "\n",
      "[[ -7.2546   1.6881   6.5434  -4.2252  -0.1502   3.3986]\n",
      " [  0.8391  -0.8625  -0.0937  12.2649  -8.4656  -3.6821]\n",
      " [  5.6018  -0.1863  -9.6963  -1.6797   2.0209   3.9396]\n",
      " [ -4.5333  12.8059  -1.0461  -6.7464  -1.95     1.4698]\n",
      " [ -2.9665 -10.4328   0.1463  -4.4583   9.0279   8.6834]\n",
      " [-11.1167 -17.3483  -9.6339 -12.7374  -3.0156  53.8518]] \n",
      "\n"
     ]
    }
   ],
   "source": [
    "def generate_matrix_with_dominant_pc(variance_threshold_L = 0.8, variance_threshold_U = 1):\n",
    "    \"\"\"Generates a random 5x5 symmetric matrix with positive values and\n",
    "       the first PC explaining at least 90% of the variance.\n",
    "    \"\"\"\n",
    "\n",
    "    while True:\n",
    "        # Create a nxn array with random positive values\n",
    "        matrix = np.abs(np.random.randn(6, 6) * 10)  # Use absolute values for positive entries\n",
    "        # Make the array symmetric\n",
    "        matrix = matrix + matrix.T\n",
    "        \n",
    "        origin_matrix = matrix\n",
    "        # Subtract the mean of each row to center the data\n",
    "        matrix = matrix - matrix.mean(axis=1, keepdims=True)\n",
    "\n",
    "        # SVD \n",
    "        n = len(matrix[0])\n",
    "        matrix_t = np.transpose(matrix)\n",
    "        y = matrix_t / np.sqrt(n)\n",
    "        U, S, Vh = np.linalg.svd(y, full_matrices=True)\n",
    "        eigenvalues = S * S\n",
    "        EV1_explained_variance = eigenvalues[0] / np.sum(eigenvalues) \n",
    "\n",
    "\n",
    "        # Check if the first PC explains at least the desired variance\n",
    "        if EV1_explained_variance >= variance_threshold_L and EV1_explained_variance < variance_threshold_U:\n",
    "            print(EV1_explained_variance, '\\n')\n",
    "            print(origin_matrix, '\\n')\n",
    "            print(matrix, '\\n')\n",
    "            return matrix\n",
    "\n",
    "# Generate a matrix that meets the conditions\n",
    "x = generate_matrix_with_dominant_pc()"
   ]
  },
  {
   "cell_type": "markdown",
   "metadata": {},
   "source": [
    "### PCA"
   ]
  },
  {
   "cell_type": "code",
   "execution_count": 40,
   "metadata": {},
   "outputs": [
    {
     "name": "stdout",
     "output_type": "stream",
     "text": [
      "[0.821  0.0762 0.0573 0.0439 0.0016 0.    ] \n",
      "\n",
      "[ 0.0627 -0.0988  0.0717  0.0009  0.2023  0.9697] \n",
      "\n",
      "[[ 127.7211  -71.2205  -84.217    81.4533   51.8585  225.6133]\n",
      " [ -71.2205  237.1077  -46.4464  -86.3983 -156.5845 -322.4439]\n",
      " [ -84.217   -46.4464  147.8585   -4.4554   43.8508  261.8314]\n",
      " [  81.4533  -86.3983   -4.4554  237.1118  -95.0709    9.2776]\n",
      " [  51.8585 -156.5845   43.8508  -95.0709  294.4463  709.7379]\n",
      " [ 225.6133 -322.4439  261.8314    9.2776  709.7379 3588.7083]] \n",
      "\n",
      "[642.0836839365845, 920.2013089855163, 588.6594407989783, 513.7671724332733, 1351.5488462696212, 5117.612456826116] \n",
      "\n",
      "[[ True  True  True  True  True  True]\n",
      " [ True  True  True  True  True  True]\n",
      " [ True  True  True  True  True  True]\n",
      " [ True  True  True  True  True  True]\n",
      " [ True  True  True  True  True  True]\n",
      " [ True  True  True  True  True  True]]\n"
     ]
    }
   ],
   "source": [
    "n = len([0])\n",
    "x_t = np.transpose(x)\n",
    "y = x_t / np.sqrt(n)\n",
    "\n",
    "U, S, Vh = np.linalg.svd(y, full_matrices=True)\n",
    "eigenvalues = S * S\n",
    "sum_eigenvalues = np.sum(eigenvalues)\n",
    "explained_variances = eigenvalues / sum_eigenvalues\n",
    "print(np.round(explained_variances, 4), '\\n')\n",
    "\n",
    "cov_x = np.matmul(np.transpose(y), y)\n",
    "V_Cx = np.matmul(Vh, cov_x)\n",
    "\n",
    "print(Vh[0], '\\n')\n",
    "print(cov_x, '\\n')\n",
    "\n",
    "cov_x_sum = [np.sum(np.abs(row)) for row in cov_x]\n",
    "print(cov_x_sum, '\\n') \n",
    "\n",
    "print((cov_x > 0) == (np.corrcoef(x) > 0))"
   ]
  },
  {
   "cell_type": "markdown",
   "metadata": {},
   "source": [
    "Test-V3: Confirm the reltionship between the EV1's pos-neg pattern and the corresponding Covariance matrix row.\n",
    "\n",
    "If the explained variance is high enough, the EV1's pos-neg pattern will match the pos-neg pattern of the Covariance matrix with maximal absolute value sum of that row (compare to every row of the covariance matirx)\n",
    "\n",
    "\n",
    "According to POSSUMM, the PCA is performed on the Hi-C contact matrix with nonzero entries, not the Pearson correlation matrix (MOSAIC perform on corrected O/E matrix)"
   ]
  }
 ],
 "metadata": {
  "kernelspec": {
   "display_name": "py3.11",
   "language": "python",
   "name": "python3"
  },
  "language_info": {
   "codemirror_mode": {
    "name": "ipython",
    "version": 3
   },
   "file_extension": ".py",
   "mimetype": "text/x-python",
   "name": "python",
   "nbconvert_exporter": "python",
   "pygments_lexer": "ipython3",
   "version": "3.10.12"
  }
 },
 "nbformat": 4,
 "nbformat_minor": 2
}
