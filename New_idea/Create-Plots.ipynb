{
 "cells": [
  {
   "cell_type": "code",
   "execution_count": 16,
   "metadata": {},
   "outputs": [],
   "source": [
    "import numpy as np\n",
    "import pandas as pd\n",
    "import hicstraw\n",
    "from matplotlib import pyplot as plt\n",
    "np.set_printoptions(suppress=True)\n",
    "# np.set_printoptions(precision=2)"
   ]
  },
  {
   "cell_type": "code",
   "execution_count": 17,
   "metadata": {},
   "outputs": [],
   "source": [
    "hic_path = \"/media/jordan990301/Samsung_T5/HiC_Datasets/Rao_2014/GM12878/MAPQGE30/GSE63525_GM12878_insitu_primary_replicate_combined_30.hic\"\n",
    "input_path = \"/home/jordan990301/PCA_Experiments/outputs/GM12878/100Kb/origin\""
   ]
  },
  {
   "cell_type": "code",
   "execution_count": 18,
   "metadata": {},
   "outputs": [
    {
     "name": "stdout",
     "output_type": "stream",
     "text": [
      "['1', '2', '3', '4', '5', '6', '7', '8', '9', '10', '11', '12', '13', '14', '15', '16', '17', '18', '19', '20', '21', '22', 'X', 'Y']\n"
     ]
    }
   ],
   "source": [
    "hic = hicstraw.HiCFile(hic_path)\n",
    "chrom_list = []\n",
    "\n",
    "for chrom in hic.getChromosomes():\n",
    "    if (chrom.name != \"All\" and chrom.name != \"MT\"):\n",
    "        chrom_list.append(chrom.name)\n",
    "\n",
    "print(chrom_list)"
   ]
  },
  {
   "cell_type": "code",
   "execution_count": 19,
   "metadata": {},
   "outputs": [
    {
     "data": {
      "text/plain": [
       "<Figure size 2000x500 with 0 Axes>"
      ]
     },
     "metadata": {},
     "output_type": "display_data"
    }
   ],
   "source": [
    "for chrom in chrom_list:\n",
    "    # Read in the Pearson correlatin matrix\n",
    "    pearson_df = pd.read_table(f\"{input_path}/origin_pearson_chrom{chrom}.txt\", header=None, sep=\" \")\n",
    "    pearson_df.pop(pearson_df.columns[-1])\n",
    "    pearson_df = pearson_df.dropna(axis=0, how=\"all\").reset_index(drop=True)\n",
    "    pearson_df = pearson_df.dropna(axis=1, how=\"all\")\n",
    "\n",
    "    # Turn pearson_df into numpy format\n",
    "    pearson_np = pearson_df.values\n",
    "\n",
    "    # Read in the Eigenvector 1\n",
    "    EV1_df = pd.read_table(f\"{input_path}/origin_pc1_chrom{chrom}.txt\", header=None, sep=\" \")\n",
    "    EV1_df = EV1_df.dropna(axis=0, how=\"all\").reset_index(drop=True)\n",
    "    EV1_np = EV1_df.values\n",
    "    EV1_np = EV1_np.flatten()\n",
    "\n",
    "    if (len(pearson_np) == len(EV1_np)):\n",
    "        # According the steps in SVD, set x as pearson_df, and set y as x' / np.sqrt(n)\n",
    "        n = len(pearson_np)\n",
    "        pearson_np_T = np.transpose(pearson_np)\n",
    "        y = pearson_np_T / np.sqrt(n)\n",
    "        cov_pearson_np = np.matmul(np.transpose(y), y) # Covariance matrix of pearson_df\n",
    "\n",
    "        # display((cov_pearson_df > 0) == (np.corrcoef(pearson_df) > 0)) ## The sign should all be the same.\n",
    "\n",
    "        cov_pearson_np_absSum = [np.sum(np.abs(row)) for row in cov_pearson_np] # Turn list into tuple with index, ex: (0, 2)\n",
    "        cov_pearson_np_absSum = list(enumerate(cov_pearson_np_absSum)) \n",
    "        sorted_list = sorted(cov_pearson_np_absSum, key=lambda x: x[1], reverse=True) \n",
    "        \n",
    "        # The sign of the pearson with the largest absSum in cov_pearson_np_absSum should correspond with the patterns of EV1.\n",
    "        EV1_pred = cov_pearson_np[sorted_list[0][0]] > 0\n",
    "\n",
    "        EV1_Pos = EV1_np > 0\n",
    "        EV1_pred_Pos = EV1_pred > 0\n",
    "        EV1_Compare_EV1_pred = EV1_pred_Pos == EV1_Pos\n",
    "\n",
    "        with open(f'/home/jordan990301/PCA_Experiments/outputs/Logs/EV1-CorrD_largest_absSum/GM12878/100Kb/patterns_compare/GM12878_chr{chrom}.txt',\"w+\") as f:\n",
    "            for i in EV1_Compare_EV1_pred:\n",
    "                f.write(str(i))\n",
    "                f.write('\\n')\n",
    "        \n",
    "        with open(f'/home/jordan990301/PCA_Experiments/outputs/Logs/EV1-CorrD_largest_absSum/GM12878/100Kb/difference_count/GM12878_chr{chrom}.txt',\"w+\") as f:\n",
    "            compare_true = list(EV1_Compare_EV1_pred).count(True)\n",
    "            compare_false = list(EV1_Compare_EV1_pred).count(False)\n",
    "            f.write('Total Entry count:')\n",
    "            f.write(str(len(pearson_np)) + '\\n')\n",
    "            f.write('Compare True:')\n",
    "            f.write(str(compare_true) + '\\n')\n",
    "            f.write('Compare False:')\n",
    "            f.write(str(compare_false) + '\\n')\n",
    "    \n",
    "        # Visualization\n",
    "        plot_x_axis = [i + 1 for i in range(len(pearson_np))]\n",
    "        output_plot_path = \"/home/jordan990301/PCA_Experiments/outputs/plots/EV1-CorrD_largest_absSum/GM12878/100Kb\"\n",
    "        \n",
    "        EV1_Colors = ['b' if i else 'r' for i in EV1_Pos]\n",
    "        EV1_pred_Viz = [1 if i else -1 for i in EV1_pred_Pos]\n",
    "\n",
    "        plt.xticks(np.arange(0, len(pearson_np), 50)) \n",
    "        plt.rcParams[\"figure.figsize\"] = [20, 5]\n",
    "        plt.rcParams[\"figure.autolayout\"] = True\n",
    "        plt.scatter(plot_x_axis, EV1_pred_Viz, c=EV1_Colors)\n",
    "        plt.savefig(f'{output_plot_path}/GM12878_Chr{chrom}_100Kb.png')\n",
    "        plt.clf() "
   ]
  },
  {
   "cell_type": "code",
   "execution_count": null,
   "metadata": {},
   "outputs": [],
   "source": []
  }
 ],
 "metadata": {
  "kernelspec": {
   "display_name": "py3.11",
   "language": "python",
   "name": "python3"
  },
  "language_info": {
   "codemirror_mode": {
    "name": "ipython",
    "version": 3
   },
   "file_extension": ".py",
   "mimetype": "text/x-python",
   "name": "python",
   "nbconvert_exporter": "python",
   "pygments_lexer": "ipython3",
   "version": "3.11.5"
  }
 },
 "nbformat": 4,
 "nbformat_minor": 2
}
