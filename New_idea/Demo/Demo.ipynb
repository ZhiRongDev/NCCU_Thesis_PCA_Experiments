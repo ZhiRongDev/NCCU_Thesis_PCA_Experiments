{
 "cells": [
  {
   "cell_type": "markdown",
   "metadata": {},
   "source": [
    "Compare the difference.<br>"
   ]
  },
  {
   "cell_type": "code",
   "execution_count": 192,
   "metadata": {},
   "outputs": [],
   "source": [
    "import numpy as np\n",
    "from matplotlib import pyplot as plt\n",
    "np.set_printoptions(suppress=True)\n",
    "np.set_printoptions(precision=2)"
   ]
  },
  {
   "cell_type": "code",
   "execution_count": 193,
   "metadata": {},
   "outputs": [
    {
     "name": "stdout",
     "output_type": "stream",
     "text": [
      "0.728106341225417 \n",
      "\n",
      "[[16.81 17.43 11.18 14.95 14.88 14.68]\n",
      " [17.43 24.86 19.88  3.94 26.9  11.67]\n",
      " [11.18 19.88 63.82 29.82 10.48  8.09]\n",
      " [14.95  3.94 29.82 14.13  7.63 19.23]\n",
      " [14.88 26.9  10.48  7.63 10.01 24.36]\n",
      " [14.68 11.67  8.09 19.23 24.36 11.97]] \n",
      "\n"
     ]
    }
   ],
   "source": [
    "def generate_oe_matrix(variance_threshold_L = 0.7, variance_threshold_U = 0.8):\n",
    "    \"\"\"Generates a random 5x5 symmetric matrix with positive values and\n",
    "       the first PC explaining at least L% and at most U% of the variance.\n",
    "    \"\"\"\n",
    "\n",
    "    while True:\n",
    "        # Create a nxn array with random positive values\n",
    "        matrix = np.abs(np.random.randn(6, 6) * 10)  # Use absolute values for positive entries\n",
    "        # Make the array symmetric\n",
    "        matrix = matrix + matrix.T\n",
    "        \n",
    "        origin_matrix = matrix\n",
    "\n",
    "        # Subtract the mean of each row to center the data\n",
    "        matrix = matrix - matrix.mean(axis=1, keepdims=True)\n",
    "\n",
    "        # SVD \n",
    "        n = len(matrix[0])\n",
    "        matrix_t = np.transpose(matrix)\n",
    "        y = matrix_t / np.sqrt(n)\n",
    "        U, S, Vh = np.linalg.svd(y, full_matrices=True)\n",
    "        eigenvalues = S * S\n",
    "        EV1_explained_variance = eigenvalues[0] / np.sum(eigenvalues) \n",
    "\n",
    "        # Check if the first PC explains at least the desired variance\n",
    "        if EV1_explained_variance >= variance_threshold_L and EV1_explained_variance < variance_threshold_U:\n",
    "            print(EV1_explained_variance, '\\n')\n",
    "            print(origin_matrix, '\\n')\n",
    "            return origin_matrix\n",
    "\n",
    "# Generate a matrix that meets the conditions\n",
    "oe = generate_oe_matrix()\n",
    "corr_oe = np.corrcoef(oe)\n",
    "# Subtract the mean of each row to center the data\n",
    "oe_zero = oe - oe.mean(axis=1, keepdims=True)\n",
    "corr_oe_zero = corr_oe - corr_oe.mean(axis=1, keepdims=True)"
   ]
  },
  {
   "cell_type": "markdown",
   "metadata": {},
   "source": [
    "### PCA\n",
    "MOSAIC perform PCA on O/E matrix <br>"
   ]
  },
  {
   "cell_type": "code",
   "execution_count": 194,
   "metadata": {},
   "outputs": [],
   "source": [
    "n = len(oe_zero[0])\n",
    "x_t = np.transpose(oe_zero)\n",
    "y = x_t / np.sqrt(n)\n",
    "\n",
    "U, S, Vh = np.linalg.svd(y, full_matrices=True)\n",
    "eigenvalues = S * S\n",
    "sum_eigenvalues = np.sum(eigenvalues)\n",
    "explained_variances = eigenvalues / sum_eigenvalues\n",
    "cov_x = np.matmul(np.transpose(y), y)\n",
    "V_Cx = np.matmul(Vh, cov_x)"
   ]
  },
  {
   "cell_type": "code",
   "execution_count": 195,
   "metadata": {},
   "outputs": [
    {
     "name": "stdout",
     "output_type": "stream",
     "text": [
      "explained_variances\n",
      "[0.73 0.13 0.1  0.04 0.   0.  ] \n",
      "\n",
      "The sign of the V_Cx for all rows with lambda > 0 is same as the Principal components\n",
      "[[ True  True  True  True  True  True]\n",
      " [ True  True  True  True  True  True]\n",
      " [ True  True  True  True  True  True]\n",
      " [ True  True  True  True  True  True]\n",
      " [ True  True  True  True  True  True]\n",
      " [ True False False False False  True]] \n",
      "\n"
     ]
    }
   ],
   "source": [
    "print('explained_variances')\n",
    "print(explained_variances, '\\n')\n",
    "print(\"The sign of the V_Cx for all rows with lambda > 0 is same as the Principal components\")\n",
    "print((V_Cx > 0) == (Vh > 0), '\\n')"
   ]
  },
  {
   "cell_type": "code",
   "execution_count": 196,
   "metadata": {},
   "outputs": [
    {
     "name": "stdout",
     "output_type": "stream",
     "text": [
      "corr_oe\n",
      "[[ 1.    0.11 -0.77 -0.84  0.5   0.27]\n",
      " [ 0.11  1.   -0.05 -0.33  0.22  0.03]\n",
      " [-0.77 -0.05  1.    0.69 -0.41 -0.5 ]\n",
      " [-0.84 -0.33  0.69  1.   -0.31 -0.56]\n",
      " [ 0.5   0.22 -0.41 -0.31  1.   -0.48]\n",
      " [ 0.27  0.03 -0.5  -0.56 -0.48  1.  ]] \n",
      "\n",
      "V_Cx[0]\n",
      "[-33.79 -18.87 397.52 131.91 -67.17 -56.81] \n",
      "\n",
      "Vh[0]\n",
      "[-0.08 -0.04  0.93  0.31 -0.16 -0.13] \n",
      "\n",
      "cov_x\n",
      "[[  3.98   1.68 -29.82 -13.99   7.32   2.9 ]\n",
      " [  1.68  61.03  -7.96 -21.38  12.6    1.23]\n",
      " [-29.82  -7.96 372.81 110.59 -58.55 -51.85]\n",
      " [-13.99 -21.38 110.59  69.14 -19.27 -25.17]\n",
      " [  7.32  12.6  -58.55 -19.27  54.3  -19.1 ]\n",
      " [  2.9    1.23 -51.85 -25.17 -19.1   28.93]] \n",
      "\n",
      "cov_x_sum\n",
      "[59.688027269315, 105.86444389061258, 631.5704300918271, 259.5383034793259, 171.13295444102906, 129.17701683610042] \n",
      "\n"
     ]
    }
   ],
   "source": [
    "print('corr_oe')\n",
    "print(np.corrcoef(oe), '\\n')\n",
    "print('V_Cx[0]')\n",
    "print(V_Cx[0], '\\n')\n",
    "print('Vh[0]')\n",
    "print(Vh[0], '\\n')\n",
    "print('cov_x')\n",
    "print(cov_x, '\\n')\n",
    "\n",
    "cov_x_sum = [np.sum(np.abs(row)) for row in cov_x]\n",
    "print('cov_x_sum')\n",
    "print(cov_x_sum, '\\n')"
   ]
  },
  {
   "cell_type": "code",
   "execution_count": 197,
   "metadata": {},
   "outputs": [
    {
     "data": {
      "text/plain": [
       "[<matplotlib.lines.Line2D at 0x7f2a7463fe90>]"
      ]
     },
     "execution_count": 197,
     "metadata": {},
     "output_type": "execute_result"
    },
    {
     "data": {
      "image/png": "[encoded data removed]",
      "text/plain": [
       "<Figure size 640x480 with 1 Axes>"
      ]
     },
     "metadata": {},
     "output_type": "display_data"
    }
   ],
   "source": [
    "cov_x_sum = list(enumerate(cov_x_sum)) \n",
    "sorted_list = sorted(cov_x_sum, key=lambda x: x[1], reverse=True) \n",
    "cov_x_selected = cov_x[sorted_list[0][0]]\n",
    "\n",
    "if (cov_x_selected[0] > 0) != (Vh[0][0] > 0):\n",
    "    cov_x_selected = -cov_x_selected\n",
    "\n",
    "cov_x_selected_Norm = (cov_x_selected - np.mean(cov_x_selected)) / np.std(cov_x_selected)\n",
    "V_Cx0_Norm = (V_Cx[0] - np.mean(V_Cx[0])) / np.std(V_Cx[0])\n",
    "\n",
    "plt.plot(Vh[0], c=\"red\")\n",
    "plt.plot(V_Cx0_Norm, c=\"blue\")\n",
    "plt.plot(cov_x_selected_Norm, c=\"black\")"
   ]
  },
  {
   "cell_type": "code",
   "execution_count": 198,
   "metadata": {},
   "outputs": [
    {
     "data": {
      "text/plain": [
       "<Figure size 640x480 with 0 Axes>"
      ]
     },
     "metadata": {},
     "output_type": "display_data"
    }
   ],
   "source": [
    "plt.clf()"
   ]
  },
  {
   "cell_type": "markdown",
   "metadata": {},
   "source": [
    "HOMER perform PCA on correlation matrix <br>"
   ]
  },
  {
   "cell_type": "code",
   "execution_count": 199,
   "metadata": {},
   "outputs": [],
   "source": [
    "n = len(corr_oe_zero[0])\n",
    "x_t = np.transpose(corr_oe_zero)\n",
    "y = x_t / np.sqrt(n)\n",
    "\n",
    "U, S, Vh = np.linalg.svd(y, full_matrices=True)\n",
    "eigenvalues = S * S\n",
    "sum_eigenvalues = np.sum(eigenvalues)\n",
    "explained_variances = eigenvalues / sum_eigenvalues\n",
    "cov_x = np.matmul(np.transpose(y), y)\n",
    "V_Cx = np.matmul(Vh, cov_x)"
   ]
  },
  {
   "cell_type": "code",
   "execution_count": 200,
   "metadata": {},
   "outputs": [
    {
     "name": "stdout",
     "output_type": "stream",
     "text": [
      "explained_variances\n",
      "[0.74 0.19 0.07 0.01 0.   0.  ] \n",
      "\n",
      "The sign of the V_Cx for all rows with lambda > 0 is same as the Principal components\n",
      "[[ True  True  True  True  True  True]\n",
      " [ True  True  True  True  True  True]\n",
      " [ True  True  True  True  True  True]\n",
      " [ True  True  True  True  True  True]\n",
      " [ True  True  True  True  True  True]\n",
      " [ True  True False False  True  True]] \n",
      "\n"
     ]
    }
   ],
   "source": [
    "print('explained_variances')\n",
    "print(explained_variances, '\\n')\n",
    "print(\"The sign of the V_Cx for all rows with lambda > 0 is same as the Principal components\")\n",
    "print((V_Cx > 0) == (Vh > 0), '\\n')"
   ]
  },
  {
   "cell_type": "code",
   "execution_count": 201,
   "metadata": {},
   "outputs": [
    {
     "name": "stdout",
     "output_type": "stream",
     "text": [
      "corr_oe\n",
      "[[ 1.    0.11 -0.77 -0.84  0.5   0.27]\n",
      " [ 0.11  1.   -0.05 -0.33  0.22  0.03]\n",
      " [-0.77 -0.05  1.    0.69 -0.41 -0.5 ]\n",
      " [-0.84 -0.33  0.69  1.   -0.31 -0.56]\n",
      " [ 0.5   0.22 -0.41 -0.31  1.   -0.48]\n",
      " [ 0.27  0.03 -0.5  -0.56 -0.48  1.  ]] \n",
      "\n",
      "V_Cx[0]\n",
      "[-0.8  -0.23  0.78  0.82 -0.4  -0.44] \n",
      "\n",
      "Vh[0]\n",
      "[-0.53 -0.15  0.51  0.54 -0.26 -0.29] \n",
      "\n",
      "cov_x\n",
      "[[ 0.44  0.1  -0.41 -0.42  0.24  0.2 ]\n",
      " [ 0.1   0.17 -0.09 -0.14  0.09  0.04]\n",
      " [-0.41 -0.09  0.42  0.41 -0.2  -0.23]\n",
      " [-0.42 -0.14  0.41  0.45 -0.18 -0.26]\n",
      " [ 0.24  0.09 -0.2  -0.18  0.29 -0.07]\n",
      " [ 0.2   0.04 -0.23 -0.26 -0.07  0.31]] \n",
      "\n",
      "cov_x_sum\n",
      "[1.8151349580539646, 0.6166546269690936, 1.7547670035321963, 1.8629654025640385, 1.0731906063448369, 1.110144816152206] \n",
      "\n"
     ]
    }
   ],
   "source": [
    "print('corr_oe')\n",
    "print(np.corrcoef(oe), '\\n')\n",
    "print('V_Cx[0]')\n",
    "print(V_Cx[0], '\\n')\n",
    "print('Vh[0]')\n",
    "print(Vh[0], '\\n')\n",
    "print('cov_x')\n",
    "print(cov_x, '\\n')\n",
    "\n",
    "cov_x_sum = [np.sum(np.abs(row)) for row in cov_x]\n",
    "print('cov_x_sum')\n",
    "print(cov_x_sum, '\\n') "
   ]
  },
  {
   "cell_type": "code",
   "execution_count": 202,
   "metadata": {},
   "outputs": [
    {
     "data": {
      "text/plain": [
       "[<matplotlib.lines.Line2D at 0x7f2a746a1290>]"
      ]
     },
     "execution_count": 202,
     "metadata": {},
     "output_type": "execute_result"
    },
    {
     "data": {
      "image/png": "[encoded data removed]",
      "text/plain": [
       "<Figure size 640x480 with 1 Axes>"
      ]
     },
     "metadata": {},
     "output_type": "display_data"
    }
   ],
   "source": [
    "cov_x_sum = list(enumerate(cov_x_sum)) \n",
    "sorted_list = sorted(cov_x_sum, key=lambda x: x[1], reverse=True) \n",
    "cov_x_selected = cov_x[sorted_list[0][0]]\n",
    "\n",
    "if (cov_x_selected[0] > 0) != (Vh[0][0] > 0):\n",
    "    cov_x_selected = -cov_x_selected\n",
    "\n",
    "cov_x_selected_Norm = (cov_x_selected - np.mean(cov_x_selected)) / np.std(cov_x_selected)\n",
    "V_Cx0_Norm = (V_Cx[0] - np.mean(V_Cx[0])) / np.std(V_Cx[0])\n",
    "\n",
    "plt.plot(Vh[0], c=\"red\")\n",
    "plt.plot(V_Cx0_Norm, c=\"blue\")\n",
    "plt.plot(cov_x_selected_Norm, c=\"black\")"
   ]
  },
  {
   "cell_type": "code",
   "execution_count": 203,
   "metadata": {},
   "outputs": [
    {
     "data": {
      "text/plain": [
       "<Figure size 640x480 with 0 Axes>"
      ]
     },
     "metadata": {},
     "output_type": "display_data"
    }
   ],
   "source": [
    "plt.clf()"
   ]
  }
 ],
 "metadata": {
  "kernelspec": {
   "display_name": "py3.11",
   "language": "python",
   "name": "python3"
  },
  "language_info": {
   "codemirror_mode": {
    "name": "ipython",
    "version": 3
   },
   "file_extension": ".py",
   "mimetype": "text/x-python",
   "name": "python",
   "nbconvert_exporter": "python",
   "pygments_lexer": "ipython3",
   "version": "3.11.5"
  }
 },
 "nbformat": 4,
 "nbformat_minor": 2
}
