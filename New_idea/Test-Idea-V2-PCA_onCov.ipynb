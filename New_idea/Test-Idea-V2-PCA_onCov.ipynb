{
 "cells": [
  {
   "cell_type": "code",
   "execution_count": 1,
   "metadata": {},
   "outputs": [],
   "source": [
    "import numpy as np\n",
    "import sympy\n",
    "from sympy import lambdify\n",
    "np.set_printoptions(suppress=True)\n",
    "np.set_printoptions(precision=4)"
   ]
  },
  {
   "cell_type": "markdown",
   "metadata": {},
   "source": [
    "* y\n",
    "* y = 2x + 1\n",
    "* y = -2x + 10\n",
    "* y = 3x + 1\n",
    "* y = -3x + 15"
   ]
  },
  {
   "cell_type": "code",
   "execution_count": 2,
   "metadata": {},
   "outputs": [],
   "source": [
    "# x = np.array([[1, 2, 3, 4, 5], [3, 5, 7, 9, 11], [8, 6, 4, 2, 0], [4, 7, 10, 13, 16], [12, 9, 6, 3, 0]])"
   ]
  },
  {
   "cell_type": "code",
   "execution_count": 3,
   "metadata": {},
   "outputs": [
    {
     "name": "stdout",
     "output_type": "stream",
     "text": [
      "[[50.7963 12.734  19.0897 11.3389 15.7492 40.4103]\n",
      " [12.734  20.1235 19.6874 30.5553 18.4224 17.7738]\n",
      " [19.0897 19.6874 15.4655 17.8718 13.6019 27.0883]\n",
      " [11.3389 30.5553 17.8718 23.3893 21.2684  6.6252]\n",
      " [15.7492 18.4224 13.6019 21.2684 24.5885 13.4656]\n",
      " [40.4103 17.7738 27.0883  6.6252 13.4656 21.7452]] \n",
      "\n",
      "[[ 25.7765 -12.2857  -5.93   -13.6808  -9.2706  15.3905]\n",
      " [ -7.1487   0.2408  -0.1953  10.6726  -1.4603  -2.1089]\n",
      " [  0.289    0.8866  -3.3353  -0.929   -5.1989   8.2875]\n",
      " [ -7.1692  12.0471  -0.6364   4.8812   2.7603 -11.8829]\n",
      " [ -2.1002   0.5731  -4.2474   3.4191   6.7391  -4.3837]\n",
      " [ 19.2255  -3.411    5.9036 -14.5595  -7.7191   0.5605]] \n",
      "\n"
     ]
    }
   ],
   "source": [
    "def generate_matrix_with_dominant_pc(variance_threshold_L = 0.8, variance_threshold_U = 1):\n",
    "    \"\"\"Generates a random 5x5 symmetric matrix with positive values and\n",
    "       the first PC explaining at least 90% of the variance.\n",
    "    \"\"\"\n",
    "\n",
    "    while True:\n",
    "        # Create a nxn array with random positive values\n",
    "        matrix = np.abs(np.random.randn(6, 6) * 10)  # Use absolute values for positive entries\n",
    "        # Make the array symmetric\n",
    "        matrix = matrix + matrix.T\n",
    "        \n",
    "        origin_matrix = matrix\n",
    "        # Subtract the mean of each row to center the data\n",
    "        matrix = matrix - matrix.mean(axis=1, keepdims=True)\n",
    "\n",
    "        # SVD \n",
    "        n = len(matrix[0])\n",
    "        matrix_t = np.transpose(matrix)\n",
    "        y = matrix_t / np.sqrt(n)\n",
    "        U, S, Vh = np.linalg.svd(y, full_matrices=True)\n",
    "        eigenvalues = S * S\n",
    "        EV1_explained_variance = eigenvalues[0] / np.sum(eigenvalues) \n",
    "\n",
    "        # Check if the first PC explains at least the desired variance\n",
    "        if EV1_explained_variance >= variance_threshold_L and EV1_explained_variance < variance_threshold_U:\n",
    "            print(origin_matrix, '\\n')\n",
    "            print(matrix, '\\n')\n",
    "            return matrix\n",
    "\n",
    "# Generate a matrix that meets the conditions\n",
    "x = generate_matrix_with_dominant_pc()"
   ]
  },
  {
   "cell_type": "code",
   "execution_count": 4,
   "metadata": {},
   "outputs": [
    {
     "data": {
      "text/plain": [
       "array([[ 1.    , -0.7263,  0.5329, -0.8522, -0.5793,  0.8081],\n",
       "       [-0.7263,  1.    , -0.1538,  0.5058,  0.3977, -0.8284],\n",
       "       [ 0.5329, -0.1538,  1.    , -0.5323, -0.583 ,  0.1505],\n",
       "       [-0.8522,  0.5058, -0.5323,  1.    ,  0.5855, -0.5587],\n",
       "       [-0.5793,  0.3977, -0.583 ,  0.5855,  1.    , -0.6574],\n",
       "       [ 0.8081, -0.8284,  0.1505, -0.5587, -0.6574,  1.    ]])"
      ]
     },
     "metadata": {},
     "output_type": "display_data"
    }
   ],
   "source": [
    "corr_x = np.corrcoef(x)\n",
    "display(corr_x)"
   ]
  },
  {
   "cell_type": "markdown",
   "metadata": {},
   "source": [
    "### PCA"
   ]
  },
  {
   "cell_type": "code",
   "execution_count": 5,
   "metadata": {},
   "outputs": [
    {
     "name": "stdout",
     "output_type": "stream",
     "text": [
      "[0.8198 0.106  0.0338 0.0251 0.0154 0.    ] \n",
      "\n",
      "[-0.7591  0.2152 -0.1026  0.3373  0.1366 -0.4843] \n",
      "\n",
      "[[ 226.7516  -58.4997   34.1316 -100.7141  -35.4513  130.3062]\n",
      " [ -58.4997   28.6141   -3.5003   21.2333    8.6459  -47.4516]\n",
      " [  34.1316   -3.5003   18.0947  -17.7722  -10.0791    6.8571]\n",
      " [-100.7141   21.2333  -17.7722   61.5976   18.6743  -46.9526]\n",
      " [ -35.4513    8.6459  -10.0791   18.6743   16.5172  -28.6107]\n",
      " [ 130.3062  -47.4516    6.8571  -46.9526  -28.6107  114.6642]] \n",
      "\n",
      "[585.8544905331183, 167.94484275919993, 90.43492765046679, 266.9440571557788, 117.97847715511412, 374.842353438763] \n",
      "\n"
     ]
    }
   ],
   "source": [
    "arr = [x]\n",
    "EV1 = []\n",
    "\n",
    "for target_x in arr:\n",
    "    n = len(target_x[0])\n",
    "\n",
    "    x_t = np.transpose(target_x)\n",
    "    y = x_t / np.sqrt(n)\n",
    "\n",
    "    U, S, Vh = np.linalg.svd(y, full_matrices=True)\n",
    "    eigenvalues = S * S\n",
    "    sum_eigenvalues = np.sum(eigenvalues)\n",
    "    explained_variances = eigenvalues / sum_eigenvalues\n",
    "    print(np.round(explained_variances, 4), '\\n')\n",
    "\n",
    "    cov_x = np.matmul(np.transpose(y), y)\n",
    "    V_Cx = np.matmul(Vh, cov_x)\n",
    "    \n",
    "    # display(np.matmul(V_Cx, np.transpose(Vh)))\n",
    "\n",
    "    ## EV1\n",
    "    EV1 = (Vh[0])\n",
    "    \n",
    "    cov_x_GaussForm = []\n",
    "    add_col = []\n",
    "    for i in range(len(cov_x[0])):\n",
    "        add_col.append([np.dot(Vh[-1], cov_x[i])])\n",
    "\n",
    "    add_col = np.array(add_col)\n",
    "\n",
    "    cov_x_GaussForm = np.concatenate((cov_x, add_col), axis=1)\n",
    "    cov_x_rref = sympy.Matrix(cov_x_GaussForm).rref()\n",
    "    Base_Vec = []\n",
    "    \n",
    "    for i in cov_x_rref[0]:\n",
    "        if i != 0 and i != 1:\n",
    "            Base_Vec.append(i)\n",
    "    \n",
    "    # print(Vh[-1] / Base_Vec)\n",
    "    # print(Base_Vec)\n",
    "    # print(Vh[-1])\n",
    "    # print('\\n')\n",
    "    # print(cov_x)\n",
    "\n",
    "    # print(np.dot(EV1, Base_Vec))\n",
    "\n",
    "    # display(corr_x > 0)\n",
    "    # display(Vh > 0)\n",
    "    # display(V_Cx > 0)\n",
    "    # display((Vh > 0) == (V_Cx > 0))\n",
    "\n",
    "    print(EV1, '\\n')\n",
    "    print(cov_x, '\\n')\n",
    "    \n",
    "    cov_x_sum = [np.sum(np.abs(row)) for row in cov_x]\n",
    "    print(cov_x_sum, '\\n') "
   ]
  },
  {
   "cell_type": "markdown",
   "metadata": {},
   "source": [
    "Test-V2: Confirm the reltionship between the EV1's pos-neg pattern and the corresponding Covariance matrix row.\n",
    "\n",
    "If the explained variance is high enough, the EV1's pos-neg pattern will match the pos-neg pattern of the Covariance matrix with maximal absolute value sum of that row (compare to every row of the covariance matirx)"
   ]
  }
 ],
 "metadata": {
  "kernelspec": {
   "display_name": "py3.11",
   "language": "python",
   "name": "python3"
  },
  "language_info": {
   "codemirror_mode": {
    "name": "ipython",
    "version": 3
   },
   "file_extension": ".py",
   "mimetype": "text/x-python",
   "name": "python",
   "nbconvert_exporter": "python",
   "pygments_lexer": "ipython3",
   "version": "3.10.12"
  }
 },
 "nbformat": 4,
 "nbformat_minor": 2
}
